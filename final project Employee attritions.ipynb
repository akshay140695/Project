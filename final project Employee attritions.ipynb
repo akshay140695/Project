{
 "cells": [
  {
   "cell_type": "markdown",
   "id": "094db87f",
   "metadata": {},
   "source": [
    "# Employee Attrition"
   ]
  },
  {
   "cell_type": "markdown",
   "id": "c0a60557",
   "metadata": {},
   "source": [
    "Employee Attrition is the process of an Employee leaving a company. In this dataset, various factors which could be the reason of attrition is specified. Thus, I have performed EDA on the model to analyze the importance of the features in the model and have performed Classification using 6 Classification Models."
   ]
  },
  {
   "cell_type": "markdown",
   "id": "dadc251b",
   "metadata": {},
   "source": [
    "Importing Liberaries thos are Requireds "
   ]
  },
  {
   "cell_type": "code",
   "execution_count": 6,
   "id": "5326e8ba",
   "metadata": {},
   "outputs": [],
   "source": [
    "import pandas as pd\n",
    "import numpy as np\n",
    "import matplotlib.pyplot as plt\n",
    "%matplotlib inline\n",
    "import seaborn as sns"
   ]
  },
  {
   "cell_type": "markdown",
   "id": "a5265924",
   "metadata": {},
   "source": [
    "Importing the Data"
   ]
  },
  {
   "cell_type": "code",
   "execution_count": 7,
   "id": "4a8d40b9",
   "metadata": {},
   "outputs": [],
   "source": [
    "data=pd.read_csv(\"C:\\\\Users\\\\Admin\\\\Desktop\\\\datasets\\\\MFG10YearTerminationData.csv\")"
   ]
  },
  {
   "cell_type": "code",
   "execution_count": 8,
   "id": "19e89fc2",
   "metadata": {},
   "outputs": [
    {
     "data": {
      "text/html": [
       "<div>\n",
       "<style scoped>\n",
       "    .dataframe tbody tr th:only-of-type {\n",
       "        vertical-align: middle;\n",
       "    }\n",
       "\n",
       "    .dataframe tbody tr th {\n",
       "        vertical-align: top;\n",
       "    }\n",
       "\n",
       "    .dataframe thead th {\n",
       "        text-align: right;\n",
       "    }\n",
       "</style>\n",
       "<table border=\"1\" class=\"dataframe\">\n",
       "  <thead>\n",
       "    <tr style=\"text-align: right;\">\n",
       "      <th></th>\n",
       "      <th>EmployeeID</th>\n",
       "      <th>recorddate_key</th>\n",
       "      <th>birthdate_key</th>\n",
       "      <th>orighiredate_key</th>\n",
       "      <th>terminationdate_key</th>\n",
       "      <th>age</th>\n",
       "      <th>length_of_service</th>\n",
       "      <th>city_name</th>\n",
       "      <th>department_name</th>\n",
       "      <th>job_title</th>\n",
       "      <th>store_name</th>\n",
       "      <th>gender_short</th>\n",
       "      <th>gender_full</th>\n",
       "      <th>termreason_desc</th>\n",
       "      <th>termtype_desc</th>\n",
       "      <th>STATUS_YEAR</th>\n",
       "      <th>STATUS</th>\n",
       "      <th>BUSINESS_UNIT</th>\n",
       "    </tr>\n",
       "  </thead>\n",
       "  <tbody>\n",
       "    <tr>\n",
       "      <th>0</th>\n",
       "      <td>1318</td>\n",
       "      <td>12/31/2006 0:00</td>\n",
       "      <td>1/3/1954</td>\n",
       "      <td>8/28/1989</td>\n",
       "      <td>1/1/1900</td>\n",
       "      <td>52</td>\n",
       "      <td>17</td>\n",
       "      <td>Vancouver</td>\n",
       "      <td>Executive</td>\n",
       "      <td>CEO</td>\n",
       "      <td>35</td>\n",
       "      <td>M</td>\n",
       "      <td>Male</td>\n",
       "      <td>Not Applicable</td>\n",
       "      <td>Not Applicable</td>\n",
       "      <td>2006</td>\n",
       "      <td>ACTIVE</td>\n",
       "      <td>HEADOFFICE</td>\n",
       "    </tr>\n",
       "    <tr>\n",
       "      <th>1</th>\n",
       "      <td>1318</td>\n",
       "      <td>12/31/2007 0:00</td>\n",
       "      <td>1/3/1954</td>\n",
       "      <td>8/28/1989</td>\n",
       "      <td>1/1/1900</td>\n",
       "      <td>53</td>\n",
       "      <td>18</td>\n",
       "      <td>Vancouver</td>\n",
       "      <td>Executive</td>\n",
       "      <td>CEO</td>\n",
       "      <td>35</td>\n",
       "      <td>M</td>\n",
       "      <td>Male</td>\n",
       "      <td>Not Applicable</td>\n",
       "      <td>Not Applicable</td>\n",
       "      <td>2007</td>\n",
       "      <td>ACTIVE</td>\n",
       "      <td>HEADOFFICE</td>\n",
       "    </tr>\n",
       "    <tr>\n",
       "      <th>2</th>\n",
       "      <td>1318</td>\n",
       "      <td>12/31/2008 0:00</td>\n",
       "      <td>1/3/1954</td>\n",
       "      <td>8/28/1989</td>\n",
       "      <td>1/1/1900</td>\n",
       "      <td>54</td>\n",
       "      <td>19</td>\n",
       "      <td>Vancouver</td>\n",
       "      <td>Executive</td>\n",
       "      <td>CEO</td>\n",
       "      <td>35</td>\n",
       "      <td>M</td>\n",
       "      <td>Male</td>\n",
       "      <td>Not Applicable</td>\n",
       "      <td>Not Applicable</td>\n",
       "      <td>2008</td>\n",
       "      <td>ACTIVE</td>\n",
       "      <td>HEADOFFICE</td>\n",
       "    </tr>\n",
       "    <tr>\n",
       "      <th>3</th>\n",
       "      <td>1318</td>\n",
       "      <td>12/31/2009 0:00</td>\n",
       "      <td>1/3/1954</td>\n",
       "      <td>8/28/1989</td>\n",
       "      <td>1/1/1900</td>\n",
       "      <td>55</td>\n",
       "      <td>20</td>\n",
       "      <td>Vancouver</td>\n",
       "      <td>Executive</td>\n",
       "      <td>CEO</td>\n",
       "      <td>35</td>\n",
       "      <td>M</td>\n",
       "      <td>Male</td>\n",
       "      <td>Not Applicable</td>\n",
       "      <td>Not Applicable</td>\n",
       "      <td>2009</td>\n",
       "      <td>ACTIVE</td>\n",
       "      <td>HEADOFFICE</td>\n",
       "    </tr>\n",
       "    <tr>\n",
       "      <th>4</th>\n",
       "      <td>1318</td>\n",
       "      <td>12/31/2010 0:00</td>\n",
       "      <td>1/3/1954</td>\n",
       "      <td>8/28/1989</td>\n",
       "      <td>1/1/1900</td>\n",
       "      <td>56</td>\n",
       "      <td>21</td>\n",
       "      <td>Vancouver</td>\n",
       "      <td>Executive</td>\n",
       "      <td>CEO</td>\n",
       "      <td>35</td>\n",
       "      <td>M</td>\n",
       "      <td>Male</td>\n",
       "      <td>Not Applicable</td>\n",
       "      <td>Not Applicable</td>\n",
       "      <td>2010</td>\n",
       "      <td>ACTIVE</td>\n",
       "      <td>HEADOFFICE</td>\n",
       "    </tr>\n",
       "  </tbody>\n",
       "</table>\n",
       "</div>"
      ],
      "text/plain": [
       "   EmployeeID   recorddate_key birthdate_key orighiredate_key  \\\n",
       "0        1318  12/31/2006 0:00      1/3/1954        8/28/1989   \n",
       "1        1318  12/31/2007 0:00      1/3/1954        8/28/1989   \n",
       "2        1318  12/31/2008 0:00      1/3/1954        8/28/1989   \n",
       "3        1318  12/31/2009 0:00      1/3/1954        8/28/1989   \n",
       "4        1318  12/31/2010 0:00      1/3/1954        8/28/1989   \n",
       "\n",
       "  terminationdate_key  age  length_of_service  city_name department_name  \\\n",
       "0            1/1/1900   52                 17  Vancouver       Executive   \n",
       "1            1/1/1900   53                 18  Vancouver       Executive   \n",
       "2            1/1/1900   54                 19  Vancouver       Executive   \n",
       "3            1/1/1900   55                 20  Vancouver       Executive   \n",
       "4            1/1/1900   56                 21  Vancouver       Executive   \n",
       "\n",
       "  job_title  store_name gender_short gender_full termreason_desc  \\\n",
       "0       CEO          35            M        Male  Not Applicable   \n",
       "1       CEO          35            M        Male  Not Applicable   \n",
       "2       CEO          35            M        Male  Not Applicable   \n",
       "3       CEO          35            M        Male  Not Applicable   \n",
       "4       CEO          35            M        Male  Not Applicable   \n",
       "\n",
       "    termtype_desc  STATUS_YEAR  STATUS BUSINESS_UNIT  \n",
       "0  Not Applicable         2006  ACTIVE    HEADOFFICE  \n",
       "1  Not Applicable         2007  ACTIVE    HEADOFFICE  \n",
       "2  Not Applicable         2008  ACTIVE    HEADOFFICE  \n",
       "3  Not Applicable         2009  ACTIVE    HEADOFFICE  \n",
       "4  Not Applicable         2010  ACTIVE    HEADOFFICE  "
      ]
     },
     "execution_count": 8,
     "metadata": {},
     "output_type": "execute_result"
    }
   ],
   "source": [
    "data.head()"
   ]
  },
  {
   "cell_type": "code",
   "execution_count": 9,
   "id": "97fd2f1a",
   "metadata": {},
   "outputs": [
    {
     "data": {
      "text/plain": [
       "(49653, 18)"
      ]
     },
     "execution_count": 9,
     "metadata": {},
     "output_type": "execute_result"
    }
   ],
   "source": [
    "data.shape"
   ]
  },
  {
   "cell_type": "code",
   "execution_count": 10,
   "id": "c11b938c",
   "metadata": {},
   "outputs": [
    {
     "name": "stdout",
     "output_type": "stream",
     "text": [
      "<class 'pandas.core.frame.DataFrame'>\n",
      "RangeIndex: 49653 entries, 0 to 49652\n",
      "Data columns (total 18 columns):\n",
      " #   Column               Non-Null Count  Dtype \n",
      "---  ------               --------------  ----- \n",
      " 0   EmployeeID           49653 non-null  int64 \n",
      " 1   recorddate_key       49653 non-null  object\n",
      " 2   birthdate_key        49653 non-null  object\n",
      " 3   orighiredate_key     49653 non-null  object\n",
      " 4   terminationdate_key  49653 non-null  object\n",
      " 5   age                  49653 non-null  int64 \n",
      " 6   length_of_service    49653 non-null  int64 \n",
      " 7   city_name            49653 non-null  object\n",
      " 8   department_name      49653 non-null  object\n",
      " 9   job_title            49653 non-null  object\n",
      " 10  store_name           49653 non-null  int64 \n",
      " 11  gender_short         49653 non-null  object\n",
      " 12  gender_full          49653 non-null  object\n",
      " 13  termreason_desc      49653 non-null  object\n",
      " 14  termtype_desc        49653 non-null  object\n",
      " 15  STATUS_YEAR          49653 non-null  int64 \n",
      " 16  STATUS               49653 non-null  object\n",
      " 17  BUSINESS_UNIT        49653 non-null  object\n",
      "dtypes: int64(5), object(13)\n",
      "memory usage: 6.8+ MB\n"
     ]
    }
   ],
   "source": [
    "data.info()"
   ]
  },
  {
   "cell_type": "markdown",
   "id": "7e696b5a",
   "metadata": {},
   "source": [
    "# EDA"
   ]
  },
  {
   "cell_type": "code",
   "execution_count": 74,
   "id": "0791984b",
   "metadata": {
    "scrolled": true
   },
   "outputs": [
    {
     "data": {
      "text/html": [
       "<div>\n",
       "<style scoped>\n",
       "    .dataframe tbody tr th:only-of-type {\n",
       "        vertical-align: middle;\n",
       "    }\n",
       "\n",
       "    .dataframe tbody tr th {\n",
       "        vertical-align: top;\n",
       "    }\n",
       "\n",
       "    .dataframe thead th {\n",
       "        text-align: right;\n",
       "    }\n",
       "</style>\n",
       "<table border=\"1\" class=\"dataframe\">\n",
       "  <thead>\n",
       "    <tr style=\"text-align: right;\">\n",
       "      <th></th>\n",
       "      <th>age</th>\n",
       "      <th>length_of_service</th>\n",
       "      <th>store_name</th>\n",
       "      <th>STATUS_YEAR</th>\n",
       "    </tr>\n",
       "  </thead>\n",
       "  <tbody>\n",
       "    <tr>\n",
       "      <th>count</th>\n",
       "      <td>49653.000000</td>\n",
       "      <td>49653.000000</td>\n",
       "      <td>49653.000000</td>\n",
       "      <td>49653.000000</td>\n",
       "    </tr>\n",
       "    <tr>\n",
       "      <th>mean</th>\n",
       "      <td>42.077035</td>\n",
       "      <td>10.434596</td>\n",
       "      <td>27.297605</td>\n",
       "      <td>2010.612612</td>\n",
       "    </tr>\n",
       "    <tr>\n",
       "      <th>std</th>\n",
       "      <td>12.427257</td>\n",
       "      <td>6.325286</td>\n",
       "      <td>13.514134</td>\n",
       "      <td>2.845577</td>\n",
       "    </tr>\n",
       "    <tr>\n",
       "      <th>min</th>\n",
       "      <td>19.000000</td>\n",
       "      <td>0.000000</td>\n",
       "      <td>1.000000</td>\n",
       "      <td>2006.000000</td>\n",
       "    </tr>\n",
       "    <tr>\n",
       "      <th>25%</th>\n",
       "      <td>31.000000</td>\n",
       "      <td>5.000000</td>\n",
       "      <td>16.000000</td>\n",
       "      <td>2008.000000</td>\n",
       "    </tr>\n",
       "    <tr>\n",
       "      <th>50%</th>\n",
       "      <td>42.000000</td>\n",
       "      <td>10.000000</td>\n",
       "      <td>28.000000</td>\n",
       "      <td>2011.000000</td>\n",
       "    </tr>\n",
       "    <tr>\n",
       "      <th>75%</th>\n",
       "      <td>53.000000</td>\n",
       "      <td>15.000000</td>\n",
       "      <td>42.000000</td>\n",
       "      <td>2013.000000</td>\n",
       "    </tr>\n",
       "    <tr>\n",
       "      <th>max</th>\n",
       "      <td>65.000000</td>\n",
       "      <td>26.000000</td>\n",
       "      <td>46.000000</td>\n",
       "      <td>2015.000000</td>\n",
       "    </tr>\n",
       "  </tbody>\n",
       "</table>\n",
       "</div>"
      ],
      "text/plain": [
       "                age  length_of_service    store_name   STATUS_YEAR\n",
       "count  49653.000000       49653.000000  49653.000000  49653.000000\n",
       "mean      42.077035          10.434596     27.297605   2010.612612\n",
       "std       12.427257           6.325286     13.514134      2.845577\n",
       "min       19.000000           0.000000      1.000000   2006.000000\n",
       "25%       31.000000           5.000000     16.000000   2008.000000\n",
       "50%       42.000000          10.000000     28.000000   2011.000000\n",
       "75%       53.000000          15.000000     42.000000   2013.000000\n",
       "max       65.000000          26.000000     46.000000   2015.000000"
      ]
     },
     "execution_count": 74,
     "metadata": {},
     "output_type": "execute_result"
    }
   ],
   "source": [
    "data.describe()"
   ]
  },
  {
   "cell_type": "code",
   "execution_count": 11,
   "id": "f048535a",
   "metadata": {
    "scrolled": true
   },
   "outputs": [
    {
     "data": {
      "text/plain": [
       "EmployeeID             0\n",
       "recorddate_key         0\n",
       "birthdate_key          0\n",
       "orighiredate_key       0\n",
       "terminationdate_key    0\n",
       "age                    0\n",
       "length_of_service      0\n",
       "city_name              0\n",
       "department_name        0\n",
       "job_title              0\n",
       "store_name             0\n",
       "gender_short           0\n",
       "gender_full            0\n",
       "termreason_desc        0\n",
       "termtype_desc          0\n",
       "STATUS_YEAR            0\n",
       "STATUS                 0\n",
       "BUSINESS_UNIT          0\n",
       "dtype: int64"
      ]
     },
     "execution_count": 11,
     "metadata": {},
     "output_type": "execute_result"
    }
   ],
   "source": [
    "data.isnull().sum()"
   ]
  },
  {
   "cell_type": "markdown",
   "id": "4d2e513b",
   "metadata": {},
   "source": [
    "Dropping Duplicates"
   ]
  },
  {
   "cell_type": "code",
   "execution_count": 13,
   "id": "4c684ae4",
   "metadata": {},
   "outputs": [],
   "source": [
    "data.drop_duplicates(inplace=True)"
   ]
  },
  {
   "cell_type": "code",
   "execution_count": 14,
   "id": "48987352",
   "metadata": {},
   "outputs": [
    {
     "data": {
      "text/html": [
       "<div>\n",
       "<style scoped>\n",
       "    .dataframe tbody tr th:only-of-type {\n",
       "        vertical-align: middle;\n",
       "    }\n",
       "\n",
       "    .dataframe tbody tr th {\n",
       "        vertical-align: top;\n",
       "    }\n",
       "\n",
       "    .dataframe thead th {\n",
       "        text-align: right;\n",
       "    }\n",
       "</style>\n",
       "<table border=\"1\" class=\"dataframe\">\n",
       "  <thead>\n",
       "    <tr style=\"text-align: right;\">\n",
       "      <th></th>\n",
       "      <th>EmployeeID</th>\n",
       "      <th>recorddate_key</th>\n",
       "      <th>birthdate_key</th>\n",
       "      <th>orighiredate_key</th>\n",
       "      <th>terminationdate_key</th>\n",
       "      <th>age</th>\n",
       "      <th>length_of_service</th>\n",
       "      <th>city_name</th>\n",
       "      <th>department_name</th>\n",
       "      <th>job_title</th>\n",
       "      <th>store_name</th>\n",
       "      <th>gender_short</th>\n",
       "      <th>gender_full</th>\n",
       "      <th>termreason_desc</th>\n",
       "      <th>termtype_desc</th>\n",
       "      <th>STATUS_YEAR</th>\n",
       "      <th>STATUS</th>\n",
       "      <th>BUSINESS_UNIT</th>\n",
       "    </tr>\n",
       "  </thead>\n",
       "  <tbody>\n",
       "    <tr>\n",
       "      <th>0</th>\n",
       "      <td>1318</td>\n",
       "      <td>12/31/2006 0:00</td>\n",
       "      <td>1/3/1954</td>\n",
       "      <td>8/28/1989</td>\n",
       "      <td>1/1/1900</td>\n",
       "      <td>52</td>\n",
       "      <td>17</td>\n",
       "      <td>Vancouver</td>\n",
       "      <td>Executive</td>\n",
       "      <td>CEO</td>\n",
       "      <td>35</td>\n",
       "      <td>M</td>\n",
       "      <td>Male</td>\n",
       "      <td>Not Applicable</td>\n",
       "      <td>Not Applicable</td>\n",
       "      <td>2006</td>\n",
       "      <td>ACTIVE</td>\n",
       "      <td>HEADOFFICE</td>\n",
       "    </tr>\n",
       "    <tr>\n",
       "      <th>1</th>\n",
       "      <td>1318</td>\n",
       "      <td>12/31/2007 0:00</td>\n",
       "      <td>1/3/1954</td>\n",
       "      <td>8/28/1989</td>\n",
       "      <td>1/1/1900</td>\n",
       "      <td>53</td>\n",
       "      <td>18</td>\n",
       "      <td>Vancouver</td>\n",
       "      <td>Executive</td>\n",
       "      <td>CEO</td>\n",
       "      <td>35</td>\n",
       "      <td>M</td>\n",
       "      <td>Male</td>\n",
       "      <td>Not Applicable</td>\n",
       "      <td>Not Applicable</td>\n",
       "      <td>2007</td>\n",
       "      <td>ACTIVE</td>\n",
       "      <td>HEADOFFICE</td>\n",
       "    </tr>\n",
       "    <tr>\n",
       "      <th>2</th>\n",
       "      <td>1318</td>\n",
       "      <td>12/31/2008 0:00</td>\n",
       "      <td>1/3/1954</td>\n",
       "      <td>8/28/1989</td>\n",
       "      <td>1/1/1900</td>\n",
       "      <td>54</td>\n",
       "      <td>19</td>\n",
       "      <td>Vancouver</td>\n",
       "      <td>Executive</td>\n",
       "      <td>CEO</td>\n",
       "      <td>35</td>\n",
       "      <td>M</td>\n",
       "      <td>Male</td>\n",
       "      <td>Not Applicable</td>\n",
       "      <td>Not Applicable</td>\n",
       "      <td>2008</td>\n",
       "      <td>ACTIVE</td>\n",
       "      <td>HEADOFFICE</td>\n",
       "    </tr>\n",
       "    <tr>\n",
       "      <th>3</th>\n",
       "      <td>1318</td>\n",
       "      <td>12/31/2009 0:00</td>\n",
       "      <td>1/3/1954</td>\n",
       "      <td>8/28/1989</td>\n",
       "      <td>1/1/1900</td>\n",
       "      <td>55</td>\n",
       "      <td>20</td>\n",
       "      <td>Vancouver</td>\n",
       "      <td>Executive</td>\n",
       "      <td>CEO</td>\n",
       "      <td>35</td>\n",
       "      <td>M</td>\n",
       "      <td>Male</td>\n",
       "      <td>Not Applicable</td>\n",
       "      <td>Not Applicable</td>\n",
       "      <td>2009</td>\n",
       "      <td>ACTIVE</td>\n",
       "      <td>HEADOFFICE</td>\n",
       "    </tr>\n",
       "    <tr>\n",
       "      <th>4</th>\n",
       "      <td>1318</td>\n",
       "      <td>12/31/2010 0:00</td>\n",
       "      <td>1/3/1954</td>\n",
       "      <td>8/28/1989</td>\n",
       "      <td>1/1/1900</td>\n",
       "      <td>56</td>\n",
       "      <td>21</td>\n",
       "      <td>Vancouver</td>\n",
       "      <td>Executive</td>\n",
       "      <td>CEO</td>\n",
       "      <td>35</td>\n",
       "      <td>M</td>\n",
       "      <td>Male</td>\n",
       "      <td>Not Applicable</td>\n",
       "      <td>Not Applicable</td>\n",
       "      <td>2010</td>\n",
       "      <td>ACTIVE</td>\n",
       "      <td>HEADOFFICE</td>\n",
       "    </tr>\n",
       "    <tr>\n",
       "      <th>...</th>\n",
       "      <td>...</td>\n",
       "      <td>...</td>\n",
       "      <td>...</td>\n",
       "      <td>...</td>\n",
       "      <td>...</td>\n",
       "      <td>...</td>\n",
       "      <td>...</td>\n",
       "      <td>...</td>\n",
       "      <td>...</td>\n",
       "      <td>...</td>\n",
       "      <td>...</td>\n",
       "      <td>...</td>\n",
       "      <td>...</td>\n",
       "      <td>...</td>\n",
       "      <td>...</td>\n",
       "      <td>...</td>\n",
       "      <td>...</td>\n",
       "      <td>...</td>\n",
       "    </tr>\n",
       "    <tr>\n",
       "      <th>49648</th>\n",
       "      <td>8258</td>\n",
       "      <td>12/1/2015 0:00</td>\n",
       "      <td>5/28/1994</td>\n",
       "      <td>8/19/2013</td>\n",
       "      <td>12/30/2015</td>\n",
       "      <td>21</td>\n",
       "      <td>2</td>\n",
       "      <td>Valemount</td>\n",
       "      <td>Dairy</td>\n",
       "      <td>Dairy Person</td>\n",
       "      <td>34</td>\n",
       "      <td>M</td>\n",
       "      <td>Male</td>\n",
       "      <td>Layoff</td>\n",
       "      <td>Involuntary</td>\n",
       "      <td>2015</td>\n",
       "      <td>TERMINATED</td>\n",
       "      <td>STORES</td>\n",
       "    </tr>\n",
       "    <tr>\n",
       "      <th>49649</th>\n",
       "      <td>8264</td>\n",
       "      <td>8/1/2013 0:00</td>\n",
       "      <td>6/13/1994</td>\n",
       "      <td>8/27/2013</td>\n",
       "      <td>8/30/2013</td>\n",
       "      <td>19</td>\n",
       "      <td>0</td>\n",
       "      <td>Vancouver</td>\n",
       "      <td>Customer Service</td>\n",
       "      <td>Cashier</td>\n",
       "      <td>44</td>\n",
       "      <td>F</td>\n",
       "      <td>Female</td>\n",
       "      <td>Resignaton</td>\n",
       "      <td>Voluntary</td>\n",
       "      <td>2013</td>\n",
       "      <td>TERMINATED</td>\n",
       "      <td>STORES</td>\n",
       "    </tr>\n",
       "    <tr>\n",
       "      <th>49650</th>\n",
       "      <td>8279</td>\n",
       "      <td>12/1/2015 0:00</td>\n",
       "      <td>7/18/1994</td>\n",
       "      <td>9/15/2013</td>\n",
       "      <td>12/30/2015</td>\n",
       "      <td>21</td>\n",
       "      <td>2</td>\n",
       "      <td>White Rock</td>\n",
       "      <td>Customer Service</td>\n",
       "      <td>Cashier</td>\n",
       "      <td>39</td>\n",
       "      <td>F</td>\n",
       "      <td>Female</td>\n",
       "      <td>Layoff</td>\n",
       "      <td>Involuntary</td>\n",
       "      <td>2015</td>\n",
       "      <td>TERMINATED</td>\n",
       "      <td>STORES</td>\n",
       "    </tr>\n",
       "    <tr>\n",
       "      <th>49651</th>\n",
       "      <td>8296</td>\n",
       "      <td>12/1/2013 0:00</td>\n",
       "      <td>9/2/1994</td>\n",
       "      <td>10/9/2013</td>\n",
       "      <td>12/31/2013</td>\n",
       "      <td>19</td>\n",
       "      <td>0</td>\n",
       "      <td>Kelowna</td>\n",
       "      <td>Customer Service</td>\n",
       "      <td>Cashier</td>\n",
       "      <td>16</td>\n",
       "      <td>F</td>\n",
       "      <td>Female</td>\n",
       "      <td>Resignaton</td>\n",
       "      <td>Voluntary</td>\n",
       "      <td>2013</td>\n",
       "      <td>TERMINATED</td>\n",
       "      <td>STORES</td>\n",
       "    </tr>\n",
       "    <tr>\n",
       "      <th>49652</th>\n",
       "      <td>8321</td>\n",
       "      <td>12/1/2014 0:00</td>\n",
       "      <td>11/28/1994</td>\n",
       "      <td>11/24/2013</td>\n",
       "      <td>12/30/2014</td>\n",
       "      <td>20</td>\n",
       "      <td>1</td>\n",
       "      <td>Grand Forks</td>\n",
       "      <td>Customer Service</td>\n",
       "      <td>Cashier</td>\n",
       "      <td>13</td>\n",
       "      <td>F</td>\n",
       "      <td>Female</td>\n",
       "      <td>Layoff</td>\n",
       "      <td>Involuntary</td>\n",
       "      <td>2014</td>\n",
       "      <td>TERMINATED</td>\n",
       "      <td>STORES</td>\n",
       "    </tr>\n",
       "  </tbody>\n",
       "</table>\n",
       "<p>49653 rows × 18 columns</p>\n",
       "</div>"
      ],
      "text/plain": [
       "       EmployeeID   recorddate_key birthdate_key orighiredate_key  \\\n",
       "0            1318  12/31/2006 0:00      1/3/1954        8/28/1989   \n",
       "1            1318  12/31/2007 0:00      1/3/1954        8/28/1989   \n",
       "2            1318  12/31/2008 0:00      1/3/1954        8/28/1989   \n",
       "3            1318  12/31/2009 0:00      1/3/1954        8/28/1989   \n",
       "4            1318  12/31/2010 0:00      1/3/1954        8/28/1989   \n",
       "...           ...              ...           ...              ...   \n",
       "49648        8258   12/1/2015 0:00     5/28/1994        8/19/2013   \n",
       "49649        8264    8/1/2013 0:00     6/13/1994        8/27/2013   \n",
       "49650        8279   12/1/2015 0:00     7/18/1994        9/15/2013   \n",
       "49651        8296   12/1/2013 0:00      9/2/1994        10/9/2013   \n",
       "49652        8321   12/1/2014 0:00    11/28/1994       11/24/2013   \n",
       "\n",
       "      terminationdate_key  age  length_of_service    city_name  \\\n",
       "0                1/1/1900   52                 17    Vancouver   \n",
       "1                1/1/1900   53                 18    Vancouver   \n",
       "2                1/1/1900   54                 19    Vancouver   \n",
       "3                1/1/1900   55                 20    Vancouver   \n",
       "4                1/1/1900   56                 21    Vancouver   \n",
       "...                   ...  ...                ...          ...   \n",
       "49648          12/30/2015   21                  2    Valemount   \n",
       "49649           8/30/2013   19                  0    Vancouver   \n",
       "49650          12/30/2015   21                  2   White Rock   \n",
       "49651          12/31/2013   19                  0      Kelowna   \n",
       "49652          12/30/2014   20                  1  Grand Forks   \n",
       "\n",
       "        department_name     job_title  store_name gender_short gender_full  \\\n",
       "0             Executive           CEO          35            M        Male   \n",
       "1             Executive           CEO          35            M        Male   \n",
       "2             Executive           CEO          35            M        Male   \n",
       "3             Executive           CEO          35            M        Male   \n",
       "4             Executive           CEO          35            M        Male   \n",
       "...                 ...           ...         ...          ...         ...   \n",
       "49648             Dairy  Dairy Person          34            M        Male   \n",
       "49649  Customer Service       Cashier          44            F      Female   \n",
       "49650  Customer Service       Cashier          39            F      Female   \n",
       "49651  Customer Service       Cashier          16            F      Female   \n",
       "49652  Customer Service       Cashier          13            F      Female   \n",
       "\n",
       "      termreason_desc   termtype_desc  STATUS_YEAR      STATUS BUSINESS_UNIT  \n",
       "0      Not Applicable  Not Applicable         2006      ACTIVE    HEADOFFICE  \n",
       "1      Not Applicable  Not Applicable         2007      ACTIVE    HEADOFFICE  \n",
       "2      Not Applicable  Not Applicable         2008      ACTIVE    HEADOFFICE  \n",
       "3      Not Applicable  Not Applicable         2009      ACTIVE    HEADOFFICE  \n",
       "4      Not Applicable  Not Applicable         2010      ACTIVE    HEADOFFICE  \n",
       "...               ...             ...          ...         ...           ...  \n",
       "49648          Layoff     Involuntary         2015  TERMINATED        STORES  \n",
       "49649      Resignaton       Voluntary         2013  TERMINATED        STORES  \n",
       "49650          Layoff     Involuntary         2015  TERMINATED        STORES  \n",
       "49651      Resignaton       Voluntary         2013  TERMINATED        STORES  \n",
       "49652          Layoff     Involuntary         2014  TERMINATED        STORES  \n",
       "\n",
       "[49653 rows x 18 columns]"
      ]
     },
     "execution_count": 14,
     "metadata": {},
     "output_type": "execute_result"
    }
   ],
   "source": [
    "data"
   ]
  },
  {
   "cell_type": "markdown",
   "id": "adc1df50",
   "metadata": {},
   "source": [
    "Dropping unwanted columns\n"
   ]
  },
  {
   "cell_type": "code",
   "execution_count": 15,
   "id": "847eb339",
   "metadata": {},
   "outputs": [],
   "source": [
    "data.drop([\"EmployeeID\",\"recorddate_key\",\"birthdate_key\",\"gender_full\"],axis=1,inplace=True)"
   ]
  },
  {
   "cell_type": "code",
   "execution_count": 16,
   "id": "38f97661",
   "metadata": {},
   "outputs": [
    {
     "data": {
      "text/html": [
       "<div>\n",
       "<style scoped>\n",
       "    .dataframe tbody tr th:only-of-type {\n",
       "        vertical-align: middle;\n",
       "    }\n",
       "\n",
       "    .dataframe tbody tr th {\n",
       "        vertical-align: top;\n",
       "    }\n",
       "\n",
       "    .dataframe thead th {\n",
       "        text-align: right;\n",
       "    }\n",
       "</style>\n",
       "<table border=\"1\" class=\"dataframe\">\n",
       "  <thead>\n",
       "    <tr style=\"text-align: right;\">\n",
       "      <th></th>\n",
       "      <th>orighiredate_key</th>\n",
       "      <th>terminationdate_key</th>\n",
       "      <th>age</th>\n",
       "      <th>length_of_service</th>\n",
       "      <th>city_name</th>\n",
       "      <th>department_name</th>\n",
       "      <th>job_title</th>\n",
       "      <th>store_name</th>\n",
       "      <th>gender_short</th>\n",
       "      <th>termreason_desc</th>\n",
       "      <th>termtype_desc</th>\n",
       "      <th>STATUS_YEAR</th>\n",
       "      <th>STATUS</th>\n",
       "      <th>BUSINESS_UNIT</th>\n",
       "    </tr>\n",
       "  </thead>\n",
       "  <tbody>\n",
       "    <tr>\n",
       "      <th>0</th>\n",
       "      <td>8/28/1989</td>\n",
       "      <td>1/1/1900</td>\n",
       "      <td>52</td>\n",
       "      <td>17</td>\n",
       "      <td>Vancouver</td>\n",
       "      <td>Executive</td>\n",
       "      <td>CEO</td>\n",
       "      <td>35</td>\n",
       "      <td>M</td>\n",
       "      <td>Not Applicable</td>\n",
       "      <td>Not Applicable</td>\n",
       "      <td>2006</td>\n",
       "      <td>ACTIVE</td>\n",
       "      <td>HEADOFFICE</td>\n",
       "    </tr>\n",
       "    <tr>\n",
       "      <th>1</th>\n",
       "      <td>8/28/1989</td>\n",
       "      <td>1/1/1900</td>\n",
       "      <td>53</td>\n",
       "      <td>18</td>\n",
       "      <td>Vancouver</td>\n",
       "      <td>Executive</td>\n",
       "      <td>CEO</td>\n",
       "      <td>35</td>\n",
       "      <td>M</td>\n",
       "      <td>Not Applicable</td>\n",
       "      <td>Not Applicable</td>\n",
       "      <td>2007</td>\n",
       "      <td>ACTIVE</td>\n",
       "      <td>HEADOFFICE</td>\n",
       "    </tr>\n",
       "    <tr>\n",
       "      <th>2</th>\n",
       "      <td>8/28/1989</td>\n",
       "      <td>1/1/1900</td>\n",
       "      <td>54</td>\n",
       "      <td>19</td>\n",
       "      <td>Vancouver</td>\n",
       "      <td>Executive</td>\n",
       "      <td>CEO</td>\n",
       "      <td>35</td>\n",
       "      <td>M</td>\n",
       "      <td>Not Applicable</td>\n",
       "      <td>Not Applicable</td>\n",
       "      <td>2008</td>\n",
       "      <td>ACTIVE</td>\n",
       "      <td>HEADOFFICE</td>\n",
       "    </tr>\n",
       "    <tr>\n",
       "      <th>3</th>\n",
       "      <td>8/28/1989</td>\n",
       "      <td>1/1/1900</td>\n",
       "      <td>55</td>\n",
       "      <td>20</td>\n",
       "      <td>Vancouver</td>\n",
       "      <td>Executive</td>\n",
       "      <td>CEO</td>\n",
       "      <td>35</td>\n",
       "      <td>M</td>\n",
       "      <td>Not Applicable</td>\n",
       "      <td>Not Applicable</td>\n",
       "      <td>2009</td>\n",
       "      <td>ACTIVE</td>\n",
       "      <td>HEADOFFICE</td>\n",
       "    </tr>\n",
       "    <tr>\n",
       "      <th>4</th>\n",
       "      <td>8/28/1989</td>\n",
       "      <td>1/1/1900</td>\n",
       "      <td>56</td>\n",
       "      <td>21</td>\n",
       "      <td>Vancouver</td>\n",
       "      <td>Executive</td>\n",
       "      <td>CEO</td>\n",
       "      <td>35</td>\n",
       "      <td>M</td>\n",
       "      <td>Not Applicable</td>\n",
       "      <td>Not Applicable</td>\n",
       "      <td>2010</td>\n",
       "      <td>ACTIVE</td>\n",
       "      <td>HEADOFFICE</td>\n",
       "    </tr>\n",
       "    <tr>\n",
       "      <th>...</th>\n",
       "      <td>...</td>\n",
       "      <td>...</td>\n",
       "      <td>...</td>\n",
       "      <td>...</td>\n",
       "      <td>...</td>\n",
       "      <td>...</td>\n",
       "      <td>...</td>\n",
       "      <td>...</td>\n",
       "      <td>...</td>\n",
       "      <td>...</td>\n",
       "      <td>...</td>\n",
       "      <td>...</td>\n",
       "      <td>...</td>\n",
       "      <td>...</td>\n",
       "    </tr>\n",
       "    <tr>\n",
       "      <th>49648</th>\n",
       "      <td>8/19/2013</td>\n",
       "      <td>12/30/2015</td>\n",
       "      <td>21</td>\n",
       "      <td>2</td>\n",
       "      <td>Valemount</td>\n",
       "      <td>Dairy</td>\n",
       "      <td>Dairy Person</td>\n",
       "      <td>34</td>\n",
       "      <td>M</td>\n",
       "      <td>Layoff</td>\n",
       "      <td>Involuntary</td>\n",
       "      <td>2015</td>\n",
       "      <td>TERMINATED</td>\n",
       "      <td>STORES</td>\n",
       "    </tr>\n",
       "    <tr>\n",
       "      <th>49649</th>\n",
       "      <td>8/27/2013</td>\n",
       "      <td>8/30/2013</td>\n",
       "      <td>19</td>\n",
       "      <td>0</td>\n",
       "      <td>Vancouver</td>\n",
       "      <td>Customer Service</td>\n",
       "      <td>Cashier</td>\n",
       "      <td>44</td>\n",
       "      <td>F</td>\n",
       "      <td>Resignaton</td>\n",
       "      <td>Voluntary</td>\n",
       "      <td>2013</td>\n",
       "      <td>TERMINATED</td>\n",
       "      <td>STORES</td>\n",
       "    </tr>\n",
       "    <tr>\n",
       "      <th>49650</th>\n",
       "      <td>9/15/2013</td>\n",
       "      <td>12/30/2015</td>\n",
       "      <td>21</td>\n",
       "      <td>2</td>\n",
       "      <td>White Rock</td>\n",
       "      <td>Customer Service</td>\n",
       "      <td>Cashier</td>\n",
       "      <td>39</td>\n",
       "      <td>F</td>\n",
       "      <td>Layoff</td>\n",
       "      <td>Involuntary</td>\n",
       "      <td>2015</td>\n",
       "      <td>TERMINATED</td>\n",
       "      <td>STORES</td>\n",
       "    </tr>\n",
       "    <tr>\n",
       "      <th>49651</th>\n",
       "      <td>10/9/2013</td>\n",
       "      <td>12/31/2013</td>\n",
       "      <td>19</td>\n",
       "      <td>0</td>\n",
       "      <td>Kelowna</td>\n",
       "      <td>Customer Service</td>\n",
       "      <td>Cashier</td>\n",
       "      <td>16</td>\n",
       "      <td>F</td>\n",
       "      <td>Resignaton</td>\n",
       "      <td>Voluntary</td>\n",
       "      <td>2013</td>\n",
       "      <td>TERMINATED</td>\n",
       "      <td>STORES</td>\n",
       "    </tr>\n",
       "    <tr>\n",
       "      <th>49652</th>\n",
       "      <td>11/24/2013</td>\n",
       "      <td>12/30/2014</td>\n",
       "      <td>20</td>\n",
       "      <td>1</td>\n",
       "      <td>Grand Forks</td>\n",
       "      <td>Customer Service</td>\n",
       "      <td>Cashier</td>\n",
       "      <td>13</td>\n",
       "      <td>F</td>\n",
       "      <td>Layoff</td>\n",
       "      <td>Involuntary</td>\n",
       "      <td>2014</td>\n",
       "      <td>TERMINATED</td>\n",
       "      <td>STORES</td>\n",
       "    </tr>\n",
       "  </tbody>\n",
       "</table>\n",
       "<p>49653 rows × 14 columns</p>\n",
       "</div>"
      ],
      "text/plain": [
       "      orighiredate_key terminationdate_key  age  length_of_service  \\\n",
       "0            8/28/1989            1/1/1900   52                 17   \n",
       "1            8/28/1989            1/1/1900   53                 18   \n",
       "2            8/28/1989            1/1/1900   54                 19   \n",
       "3            8/28/1989            1/1/1900   55                 20   \n",
       "4            8/28/1989            1/1/1900   56                 21   \n",
       "...                ...                 ...  ...                ...   \n",
       "49648        8/19/2013          12/30/2015   21                  2   \n",
       "49649        8/27/2013           8/30/2013   19                  0   \n",
       "49650        9/15/2013          12/30/2015   21                  2   \n",
       "49651        10/9/2013          12/31/2013   19                  0   \n",
       "49652       11/24/2013          12/30/2014   20                  1   \n",
       "\n",
       "         city_name   department_name     job_title  store_name gender_short  \\\n",
       "0        Vancouver         Executive           CEO          35            M   \n",
       "1        Vancouver         Executive           CEO          35            M   \n",
       "2        Vancouver         Executive           CEO          35            M   \n",
       "3        Vancouver         Executive           CEO          35            M   \n",
       "4        Vancouver         Executive           CEO          35            M   \n",
       "...            ...               ...           ...         ...          ...   \n",
       "49648    Valemount             Dairy  Dairy Person          34            M   \n",
       "49649    Vancouver  Customer Service       Cashier          44            F   \n",
       "49650   White Rock  Customer Service       Cashier          39            F   \n",
       "49651      Kelowna  Customer Service       Cashier          16            F   \n",
       "49652  Grand Forks  Customer Service       Cashier          13            F   \n",
       "\n",
       "      termreason_desc   termtype_desc  STATUS_YEAR      STATUS BUSINESS_UNIT  \n",
       "0      Not Applicable  Not Applicable         2006      ACTIVE    HEADOFFICE  \n",
       "1      Not Applicable  Not Applicable         2007      ACTIVE    HEADOFFICE  \n",
       "2      Not Applicable  Not Applicable         2008      ACTIVE    HEADOFFICE  \n",
       "3      Not Applicable  Not Applicable         2009      ACTIVE    HEADOFFICE  \n",
       "4      Not Applicable  Not Applicable         2010      ACTIVE    HEADOFFICE  \n",
       "...               ...             ...          ...         ...           ...  \n",
       "49648          Layoff     Involuntary         2015  TERMINATED        STORES  \n",
       "49649      Resignaton       Voluntary         2013  TERMINATED        STORES  \n",
       "49650          Layoff     Involuntary         2015  TERMINATED        STORES  \n",
       "49651      Resignaton       Voluntary         2013  TERMINATED        STORES  \n",
       "49652          Layoff     Involuntary         2014  TERMINATED        STORES  \n",
       "\n",
       "[49653 rows x 14 columns]"
      ]
     },
     "execution_count": 16,
     "metadata": {},
     "output_type": "execute_result"
    }
   ],
   "source": [
    "data"
   ]
  },
  {
   "cell_type": "markdown",
   "id": "ab31a7c0",
   "metadata": {},
   "source": [
    "Unique values in city"
   ]
  },
  {
   "cell_type": "code",
   "execution_count": 17,
   "id": "c5e09253",
   "metadata": {},
   "outputs": [
    {
     "data": {
      "text/plain": [
       "Vancouver           11211\n",
       "Victoria             4885\n",
       "Nanaimo              3876\n",
       "New Westminster      3211\n",
       "Kelowna              2513\n",
       "Burnaby              2067\n",
       "Kamloops             2061\n",
       "Prince George        2048\n",
       "Cranbrook            1785\n",
       "Surrey               1560\n",
       "Richmond             1401\n",
       "Terrace              1228\n",
       "Chilliwack           1167\n",
       "Trail                 925\n",
       "Langley               901\n",
       "Vernon                898\n",
       "Squamish              806\n",
       "Quesnel               703\n",
       "Abbotsford            681\n",
       "North Vancouver       648\n",
       "Fort St John          621\n",
       "Williams Lake         617\n",
       "West Vancouver        613\n",
       "Port Coquitlam        545\n",
       "Aldergrove            520\n",
       "Fort Nelson           322\n",
       "Nelson                317\n",
       "New Westminister      254\n",
       "Grand Forks           236\n",
       "White Rock            231\n",
       "Haney                 182\n",
       "Princeton             136\n",
       "Dawson Creek          129\n",
       "Bella Bella           126\n",
       "Ocean Falls            65\n",
       "Pitt Meadows           57\n",
       "Cortes Island          43\n",
       "Valemount              37\n",
       "Dease Lake             18\n",
       "Blue River              9\n",
       "Name: city_name, dtype: int64"
      ]
     },
     "execution_count": 17,
     "metadata": {},
     "output_type": "execute_result"
    }
   ],
   "source": [
    "data.city_name.value_counts()"
   ]
  },
  {
   "cell_type": "markdown",
   "id": "5ab72a6c",
   "metadata": {},
   "source": [
    "Value counts in Department Name"
   ]
  },
  {
   "cell_type": "code",
   "execution_count": 18,
   "id": "d264b6a8",
   "metadata": {
    "scrolled": false
   },
   "outputs": [
    {
     "data": {
      "text/plain": [
       "Meats                     10269\n",
       "Dairy                      8599\n",
       "Produce                    8515\n",
       "Bakery                     8381\n",
       "Customer Service           7122\n",
       "Processed Foods            5911\n",
       "Store Management            271\n",
       "Executive                   100\n",
       "Recruitment                  72\n",
       "HR Technology                64\n",
       "Accounting                   59\n",
       "Employee Records             44\n",
       "Accounts Receiveable         39\n",
       "Labor Relations              34\n",
       "Accounts Payable             34\n",
       "Training                     30\n",
       "Compensation                 24\n",
       "Audit                        24\n",
       "Investment                   24\n",
       "Information Technology       20\n",
       "Legal                        17\n",
       "Name: department_name, dtype: int64"
      ]
     },
     "execution_count": 18,
     "metadata": {},
     "output_type": "execute_result"
    }
   ],
   "source": [
    "data.department_name.value_counts()"
   ]
  },
  {
   "cell_type": "markdown",
   "id": "f2331f7b",
   "metadata": {},
   "source": [
    "Value counts in job title"
   ]
  },
  {
   "cell_type": "code",
   "execution_count": 19,
   "id": "285d587d",
   "metadata": {
    "scrolled": false
   },
   "outputs": [
    {
     "data": {
      "text/plain": [
       "Meat Cutter                        9984\n",
       "Dairy Person                       8590\n",
       "Produce Clerk                      8237\n",
       "Baker                              8096\n",
       "Cashier                            6816\n",
       "Shelf Stocker                      5622\n",
       "Customer Service Manager            306\n",
       "Processed Foods Manager             289\n",
       "Bakery Manager                      285\n",
       "Meats Manager                       285\n",
       "Produce Manager                     278\n",
       "Store Manager                       271\n",
       "Recruiter                            62\n",
       "HRIS Analyst                         55\n",
       "Accounting Clerk                     50\n",
       "Benefits Admin                       35\n",
       "Labor Relations Analyst              30\n",
       "Accounts Receiveable Clerk           30\n",
       "Trainer                              26\n",
       "Accounts Payable Clerk               25\n",
       "Auditor                              20\n",
       "Systems Analyst                      20\n",
       "Investment Analyst                   20\n",
       "Compensation Analyst                 20\n",
       "Corporate Lawyer                     17\n",
       "CEO                                  10\n",
       "Exec Assistant, VP Stores            10\n",
       "Legal Counsel                        10\n",
       "VP Stores                            10\n",
       "VP Human Resources                   10\n",
       "VP Finance                           10\n",
       "Director, Recruitment                10\n",
       "Exec Assistant, Finance              10\n",
       "Exec Assistant, Human Resources      10\n",
       "CHief Information Officer            10\n",
       "Exec Assistant, Legal Counsel        10\n",
       "Director, Accounts Payable            9\n",
       "Director, Accounts Receivable         9\n",
       "Director, Employee Records            9\n",
       "Director, HR Technology               9\n",
       "Dairy Manager                         9\n",
       "Director, Accounting                  9\n",
       "Director, Investments                 4\n",
       "Director, Labor Relations             4\n",
       "Director, Compensation                4\n",
       "Director, Audit                       4\n",
       "Director, Training                    4\n",
       "Name: job_title, dtype: int64"
      ]
     },
     "execution_count": 19,
     "metadata": {},
     "output_type": "execute_result"
    }
   ],
   "source": [
    "data.job_title.value_counts()"
   ]
  },
  {
   "cell_type": "markdown",
   "id": "9d4b959d",
   "metadata": {},
   "source": [
    "Value Counts in gender_short"
   ]
  },
  {
   "cell_type": "code",
   "execution_count": 21,
   "id": "6b83c877",
   "metadata": {},
   "outputs": [
    {
     "data": {
      "text/plain": [
       "F    25898\n",
       "M    23755\n",
       "Name: gender_short, dtype: int64"
      ]
     },
     "execution_count": 21,
     "metadata": {},
     "output_type": "execute_result"
    }
   ],
   "source": [
    "data.gender_short.value_counts()"
   ]
  },
  {
   "cell_type": "markdown",
   "id": "e72cbe4e",
   "metadata": {},
   "source": [
    "Value Counts in termreason_desc"
   ]
  },
  {
   "cell_type": "code",
   "execution_count": 22,
   "id": "34ac4173",
   "metadata": {},
   "outputs": [
    {
     "data": {
      "text/plain": [
       "Not Applicable    48168\n",
       "Retirement          885\n",
       "Resignaton          385\n",
       "Layoff              215\n",
       "Name: termreason_desc, dtype: int64"
      ]
     },
     "execution_count": 22,
     "metadata": {},
     "output_type": "execute_result"
    }
   ],
   "source": [
    "data.termreason_desc.value_counts()"
   ]
  },
  {
   "cell_type": "markdown",
   "id": "35297d48",
   "metadata": {},
   "source": [
    "Value Counts in STATUS Year"
   ]
  },
  {
   "cell_type": "code",
   "execution_count": 23,
   "id": "db043970",
   "metadata": {},
   "outputs": [
    {
     "data": {
      "text/plain": [
       "2013    5320\n",
       "2012    5231\n",
       "2014    5215\n",
       "2011    5082\n",
       "2010    4963\n",
       "2015    4961\n",
       "2009    4852\n",
       "2008    4767\n",
       "2007    4683\n",
       "2006    4579\n",
       "Name: STATUS_YEAR, dtype: int64"
      ]
     },
     "execution_count": 23,
     "metadata": {},
     "output_type": "execute_result"
    }
   ],
   "source": [
    "data.STATUS_YEAR.value_counts()"
   ]
  },
  {
   "cell_type": "markdown",
   "id": "7c71c5ff",
   "metadata": {},
   "source": [
    "Value Counts in STATUS"
   ]
  },
  {
   "cell_type": "code",
   "execution_count": 80,
   "id": "c928f95c",
   "metadata": {},
   "outputs": [
    {
     "data": {
      "text/plain": [
       "ACTIVE        48168\n",
       "TERMINATED     1485\n",
       "Name: STATUS, dtype: int64"
      ]
     },
     "execution_count": 80,
     "metadata": {},
     "output_type": "execute_result"
    }
   ],
   "source": [
    "data.STATUS.value_counts()"
   ]
  },
  {
   "cell_type": "markdown",
   "id": "239b0ee8",
   "metadata": {},
   "source": [
    "Value Counts in Business_Unit"
   ]
  },
  {
   "cell_type": "code",
   "execution_count": 25,
   "id": "bc0791a5",
   "metadata": {},
   "outputs": [
    {
     "data": {
      "text/plain": [
       "STORES        49068\n",
       "HEADOFFICE      585\n",
       "Name: BUSINESS_UNIT, dtype: int64"
      ]
     },
     "execution_count": 25,
     "metadata": {},
     "output_type": "execute_result"
    }
   ],
   "source": [
    "data.BUSINESS_UNIT.value_counts()"
   ]
  },
  {
   "cell_type": "markdown",
   "id": "751ec72e",
   "metadata": {},
   "source": [
    "Converting Job title into Four category"
   ]
  },
  {
   "cell_type": "code",
   "execution_count": 26,
   "id": "5af47c3a",
   "metadata": {},
   "outputs": [],
   "source": [
    "board = ['CEO','VP Stores', 'Director, Recruitment', 'VP Human Resources', 'VP Finance', 'Director, Accounts Receivable', \n",
    "         'Director, Accounting', 'Director, Employee Records', 'Director, Accounts Payable', 'Director, HR Technology', \n",
    "         'Director, Investments', 'Director, Labor Relations', 'Director, Audit', 'Director, Training',\n",
    "         'Director, Compensation']\n",
    "\n",
    "executive = [ 'Exec Assistant, VP Stores', 'Exec Assistant, Legal Counsel', 'CHief Information Officer', \n",
    "             'Exec Assistant, Human Resources', 'Exec Assistant, Finance']\n",
    "\n",
    "manager = ['Customer Service Manager', 'Processed Foods Manager', 'Meats Manager',\n",
    "           'Bakery Manager', 'Produce Manager', 'Store Manager', 'Trainer', 'Dairy Manager']\n",
    "\n",
    "employee = ['Meat Cutter', 'Dairy Person', 'Produce Clerk', 'Baker', 'Cashier',\n",
    "            'Shelf Stocker', 'Recruiter', 'HRIS Analyst', 'Accounting Clerk',\n",
    "            'Benefits Admin', 'Labor Relations Analyst', 'Accounts Receiveable Clerk',\n",
    "            'Accounts Payable Clerk', 'Auditor', 'Compensation Analyst',\n",
    "            'Investment Analyst', 'Systems Analyst', 'Corporate Lawyer', 'Legal Counsel']\n",
    "\n",
    "def job_title(job):\n",
    "    if job in board:return 'board'\n",
    "    if job in executive:return 'executive'\n",
    "    if job in manager:return'manager'\n",
    "    if job in employee:return 'employee'\n",
    "    \n",
    "data['job_title']=data['job_title'].map(job_title)"
   ]
  },
  {
   "cell_type": "code",
   "execution_count": 27,
   "id": "55c38467",
   "metadata": {
    "scrolled": true
   },
   "outputs": [
    {
     "data": {
      "text/plain": [
       "array(['board', 'employee', 'executive', 'manager'], dtype=object)"
      ]
     },
     "execution_count": 27,
     "metadata": {},
     "output_type": "execute_result"
    }
   ],
   "source": [
    "data.job_title.unique()"
   ]
  },
  {
   "cell_type": "markdown",
   "id": "f5121cfd",
   "metadata": {},
   "source": [
    "Changing the city names"
   ]
  },
  {
   "cell_type": "code",
   "execution_count": 28,
   "id": "0ff9f3f9",
   "metadata": {},
   "outputs": [],
   "source": [
    "city_population = {\n",
    "    'Vancouver':2313328,\n",
    "     'Victoria':289625,\n",
    "     'Nanaimo':84905,\n",
    "     'New Westminster':58549,\n",
    "     'Kelowna':125109,\n",
    "     'Burnaby':202799,\n",
    "     'Kamloops':68714,\n",
    "     'Prince George':65558,\n",
    "     'Cranbrook':18610,\n",
    "     'Surrey':394976,\n",
    "     'Richmond':182000,\n",
    "     'Terrace':19443,\n",
    "     'Chilliwack':77000,\n",
    "     'Trail':9707,\n",
    "     'Langley':23606,\n",
    "     'Vernon':47274,\n",
    "     'Squamish':19512,\n",
    "     'Quesnel':13799,\n",
    "     'Abbotsford':151683,\n",
    "     'North Vancouver':48000,\n",
    "     'Fort St John':17402,\n",
    "     'Williams Lake':14168,\n",
    "     'West Vancouver':42694,\n",
    "     'Port Coquitlam':114565,\n",
    "     'Aldergrove':12363,\n",
    "     'Fort Nelson':3561,\n",
    "     'Nelson':9813,\n",
    "     'New Westminister':58549,\n",
    "     'Grand Forks':4049,\n",
    "     'White Rock':66450,\n",
    "     'Haney':82256,\n",
    "     'Princeton':2828,\n",
    "     'Dawson Creek':10802,\n",
    "     'Bella Bella':1019,\n",
    "     'Ocean Falls':129,\n",
    "     'Pitt Meadows':174410,\n",
    "     'Cortes Island':1042,\n",
    "     'Valemount':1021,\n",
    "     'Dease Lake':335,\n",
    "     'Blue River':157\n",
    "}\n",
    "\n",
    "def change_city_into_city_pop(city):\n",
    "    return city_population(city)\n",
    "\n",
    "data['city_name'] = data['city_name'].map(city_population)"
   ]
  },
  {
   "cell_type": "markdown",
   "id": "9742a985",
   "metadata": {},
   "source": [
    "Converting cities into 'Rural' or 'Town'"
   ]
  },
  {
   "cell_type": "code",
   "execution_count": 29,
   "id": "dde88e11",
   "metadata": {},
   "outputs": [],
   "source": [
    "def change_city(population):\n",
    "    str = 'rural'\n",
    "    if (population >= 10000) & (population < 100000): str = 'town'\n",
    "    if population >= 100000: str = 'mega'\n",
    "    return str\n",
    "\n",
    "data['city_name'] = data.city_name.map(change_city)"
   ]
  },
  {
   "cell_type": "markdown",
   "id": "68cfecdd",
   "metadata": {},
   "source": [
    "Checking city names after reduction"
   ]
  },
  {
   "cell_type": "code",
   "execution_count": 30,
   "id": "8ba7b9ab",
   "metadata": {
    "scrolled": true
   },
   "outputs": [
    {
     "data": {
      "text/plain": [
       "mega     24920\n",
       "town     22499\n",
       "rural     2234\n",
       "Name: city_name, dtype: int64"
      ]
     },
     "execution_count": 30,
     "metadata": {},
     "output_type": "execute_result"
    }
   ],
   "source": [
    "data.city_name.value_counts()"
   ]
  },
  {
   "cell_type": "code",
   "execution_count": 31,
   "id": "76be274a",
   "metadata": {},
   "outputs": [
    {
     "data": {
      "text/html": [
       "<div>\n",
       "<style scoped>\n",
       "    .dataframe tbody tr th:only-of-type {\n",
       "        vertical-align: middle;\n",
       "    }\n",
       "\n",
       "    .dataframe tbody tr th {\n",
       "        vertical-align: top;\n",
       "    }\n",
       "\n",
       "    .dataframe thead th {\n",
       "        text-align: right;\n",
       "    }\n",
       "</style>\n",
       "<table border=\"1\" class=\"dataframe\">\n",
       "  <thead>\n",
       "    <tr style=\"text-align: right;\">\n",
       "      <th></th>\n",
       "      <th>orighiredate_key</th>\n",
       "      <th>terminationdate_key</th>\n",
       "      <th>age</th>\n",
       "      <th>length_of_service</th>\n",
       "      <th>city_name</th>\n",
       "      <th>department_name</th>\n",
       "      <th>job_title</th>\n",
       "      <th>store_name</th>\n",
       "      <th>gender_short</th>\n",
       "      <th>termreason_desc</th>\n",
       "      <th>termtype_desc</th>\n",
       "      <th>STATUS_YEAR</th>\n",
       "      <th>STATUS</th>\n",
       "      <th>BUSINESS_UNIT</th>\n",
       "    </tr>\n",
       "  </thead>\n",
       "  <tbody>\n",
       "    <tr>\n",
       "      <th>0</th>\n",
       "      <td>8/28/1989</td>\n",
       "      <td>1/1/1900</td>\n",
       "      <td>52</td>\n",
       "      <td>17</td>\n",
       "      <td>mega</td>\n",
       "      <td>Executive</td>\n",
       "      <td>board</td>\n",
       "      <td>35</td>\n",
       "      <td>M</td>\n",
       "      <td>Not Applicable</td>\n",
       "      <td>Not Applicable</td>\n",
       "      <td>2006</td>\n",
       "      <td>ACTIVE</td>\n",
       "      <td>HEADOFFICE</td>\n",
       "    </tr>\n",
       "    <tr>\n",
       "      <th>1</th>\n",
       "      <td>8/28/1989</td>\n",
       "      <td>1/1/1900</td>\n",
       "      <td>53</td>\n",
       "      <td>18</td>\n",
       "      <td>mega</td>\n",
       "      <td>Executive</td>\n",
       "      <td>board</td>\n",
       "      <td>35</td>\n",
       "      <td>M</td>\n",
       "      <td>Not Applicable</td>\n",
       "      <td>Not Applicable</td>\n",
       "      <td>2007</td>\n",
       "      <td>ACTIVE</td>\n",
       "      <td>HEADOFFICE</td>\n",
       "    </tr>\n",
       "    <tr>\n",
       "      <th>2</th>\n",
       "      <td>8/28/1989</td>\n",
       "      <td>1/1/1900</td>\n",
       "      <td>54</td>\n",
       "      <td>19</td>\n",
       "      <td>mega</td>\n",
       "      <td>Executive</td>\n",
       "      <td>board</td>\n",
       "      <td>35</td>\n",
       "      <td>M</td>\n",
       "      <td>Not Applicable</td>\n",
       "      <td>Not Applicable</td>\n",
       "      <td>2008</td>\n",
       "      <td>ACTIVE</td>\n",
       "      <td>HEADOFFICE</td>\n",
       "    </tr>\n",
       "    <tr>\n",
       "      <th>3</th>\n",
       "      <td>8/28/1989</td>\n",
       "      <td>1/1/1900</td>\n",
       "      <td>55</td>\n",
       "      <td>20</td>\n",
       "      <td>mega</td>\n",
       "      <td>Executive</td>\n",
       "      <td>board</td>\n",
       "      <td>35</td>\n",
       "      <td>M</td>\n",
       "      <td>Not Applicable</td>\n",
       "      <td>Not Applicable</td>\n",
       "      <td>2009</td>\n",
       "      <td>ACTIVE</td>\n",
       "      <td>HEADOFFICE</td>\n",
       "    </tr>\n",
       "    <tr>\n",
       "      <th>4</th>\n",
       "      <td>8/28/1989</td>\n",
       "      <td>1/1/1900</td>\n",
       "      <td>56</td>\n",
       "      <td>21</td>\n",
       "      <td>mega</td>\n",
       "      <td>Executive</td>\n",
       "      <td>board</td>\n",
       "      <td>35</td>\n",
       "      <td>M</td>\n",
       "      <td>Not Applicable</td>\n",
       "      <td>Not Applicable</td>\n",
       "      <td>2010</td>\n",
       "      <td>ACTIVE</td>\n",
       "      <td>HEADOFFICE</td>\n",
       "    </tr>\n",
       "    <tr>\n",
       "      <th>...</th>\n",
       "      <td>...</td>\n",
       "      <td>...</td>\n",
       "      <td>...</td>\n",
       "      <td>...</td>\n",
       "      <td>...</td>\n",
       "      <td>...</td>\n",
       "      <td>...</td>\n",
       "      <td>...</td>\n",
       "      <td>...</td>\n",
       "      <td>...</td>\n",
       "      <td>...</td>\n",
       "      <td>...</td>\n",
       "      <td>...</td>\n",
       "      <td>...</td>\n",
       "    </tr>\n",
       "    <tr>\n",
       "      <th>49648</th>\n",
       "      <td>8/19/2013</td>\n",
       "      <td>12/30/2015</td>\n",
       "      <td>21</td>\n",
       "      <td>2</td>\n",
       "      <td>rural</td>\n",
       "      <td>Dairy</td>\n",
       "      <td>employee</td>\n",
       "      <td>34</td>\n",
       "      <td>M</td>\n",
       "      <td>Layoff</td>\n",
       "      <td>Involuntary</td>\n",
       "      <td>2015</td>\n",
       "      <td>TERMINATED</td>\n",
       "      <td>STORES</td>\n",
       "    </tr>\n",
       "    <tr>\n",
       "      <th>49649</th>\n",
       "      <td>8/27/2013</td>\n",
       "      <td>8/30/2013</td>\n",
       "      <td>19</td>\n",
       "      <td>0</td>\n",
       "      <td>mega</td>\n",
       "      <td>Customer Service</td>\n",
       "      <td>employee</td>\n",
       "      <td>44</td>\n",
       "      <td>F</td>\n",
       "      <td>Resignaton</td>\n",
       "      <td>Voluntary</td>\n",
       "      <td>2013</td>\n",
       "      <td>TERMINATED</td>\n",
       "      <td>STORES</td>\n",
       "    </tr>\n",
       "    <tr>\n",
       "      <th>49650</th>\n",
       "      <td>9/15/2013</td>\n",
       "      <td>12/30/2015</td>\n",
       "      <td>21</td>\n",
       "      <td>2</td>\n",
       "      <td>town</td>\n",
       "      <td>Customer Service</td>\n",
       "      <td>employee</td>\n",
       "      <td>39</td>\n",
       "      <td>F</td>\n",
       "      <td>Layoff</td>\n",
       "      <td>Involuntary</td>\n",
       "      <td>2015</td>\n",
       "      <td>TERMINATED</td>\n",
       "      <td>STORES</td>\n",
       "    </tr>\n",
       "    <tr>\n",
       "      <th>49651</th>\n",
       "      <td>10/9/2013</td>\n",
       "      <td>12/31/2013</td>\n",
       "      <td>19</td>\n",
       "      <td>0</td>\n",
       "      <td>mega</td>\n",
       "      <td>Customer Service</td>\n",
       "      <td>employee</td>\n",
       "      <td>16</td>\n",
       "      <td>F</td>\n",
       "      <td>Resignaton</td>\n",
       "      <td>Voluntary</td>\n",
       "      <td>2013</td>\n",
       "      <td>TERMINATED</td>\n",
       "      <td>STORES</td>\n",
       "    </tr>\n",
       "    <tr>\n",
       "      <th>49652</th>\n",
       "      <td>11/24/2013</td>\n",
       "      <td>12/30/2014</td>\n",
       "      <td>20</td>\n",
       "      <td>1</td>\n",
       "      <td>rural</td>\n",
       "      <td>Customer Service</td>\n",
       "      <td>employee</td>\n",
       "      <td>13</td>\n",
       "      <td>F</td>\n",
       "      <td>Layoff</td>\n",
       "      <td>Involuntary</td>\n",
       "      <td>2014</td>\n",
       "      <td>TERMINATED</td>\n",
       "      <td>STORES</td>\n",
       "    </tr>\n",
       "  </tbody>\n",
       "</table>\n",
       "<p>49653 rows × 14 columns</p>\n",
       "</div>"
      ],
      "text/plain": [
       "      orighiredate_key terminationdate_key  age  length_of_service city_name  \\\n",
       "0            8/28/1989            1/1/1900   52                 17      mega   \n",
       "1            8/28/1989            1/1/1900   53                 18      mega   \n",
       "2            8/28/1989            1/1/1900   54                 19      mega   \n",
       "3            8/28/1989            1/1/1900   55                 20      mega   \n",
       "4            8/28/1989            1/1/1900   56                 21      mega   \n",
       "...                ...                 ...  ...                ...       ...   \n",
       "49648        8/19/2013          12/30/2015   21                  2     rural   \n",
       "49649        8/27/2013           8/30/2013   19                  0      mega   \n",
       "49650        9/15/2013          12/30/2015   21                  2      town   \n",
       "49651        10/9/2013          12/31/2013   19                  0      mega   \n",
       "49652       11/24/2013          12/30/2014   20                  1     rural   \n",
       "\n",
       "        department_name job_title  store_name gender_short termreason_desc  \\\n",
       "0             Executive     board          35            M  Not Applicable   \n",
       "1             Executive     board          35            M  Not Applicable   \n",
       "2             Executive     board          35            M  Not Applicable   \n",
       "3             Executive     board          35            M  Not Applicable   \n",
       "4             Executive     board          35            M  Not Applicable   \n",
       "...                 ...       ...         ...          ...             ...   \n",
       "49648             Dairy  employee          34            M          Layoff   \n",
       "49649  Customer Service  employee          44            F      Resignaton   \n",
       "49650  Customer Service  employee          39            F          Layoff   \n",
       "49651  Customer Service  employee          16            F      Resignaton   \n",
       "49652  Customer Service  employee          13            F          Layoff   \n",
       "\n",
       "        termtype_desc  STATUS_YEAR      STATUS BUSINESS_UNIT  \n",
       "0      Not Applicable         2006      ACTIVE    HEADOFFICE  \n",
       "1      Not Applicable         2007      ACTIVE    HEADOFFICE  \n",
       "2      Not Applicable         2008      ACTIVE    HEADOFFICE  \n",
       "3      Not Applicable         2009      ACTIVE    HEADOFFICE  \n",
       "4      Not Applicable         2010      ACTIVE    HEADOFFICE  \n",
       "...               ...          ...         ...           ...  \n",
       "49648     Involuntary         2015  TERMINATED        STORES  \n",
       "49649       Voluntary         2013  TERMINATED        STORES  \n",
       "49650     Involuntary         2015  TERMINATED        STORES  \n",
       "49651       Voluntary         2013  TERMINATED        STORES  \n",
       "49652     Involuntary         2014  TERMINATED        STORES  \n",
       "\n",
       "[49653 rows x 14 columns]"
      ]
     },
     "execution_count": 31,
     "metadata": {},
     "output_type": "execute_result"
    }
   ],
   "source": [
    "data"
   ]
  },
  {
   "cell_type": "markdown",
   "id": "d43f09a9",
   "metadata": {},
   "source": [
    "# Visualisations"
   ]
  },
  {
   "cell_type": "code",
   "execution_count": 32,
   "id": "f6f7fa0e",
   "metadata": {},
   "outputs": [
    {
     "name": "stderr",
     "output_type": "stream",
     "text": [
      "C:\\Users\\Admin\\anaconda3\\lib\\site-packages\\seaborn\\_decorators.py:36: FutureWarning: Pass the following variables as keyword args: x, y. From version 0.12, the only valid positional argument will be `data`, and passing other arguments without an explicit keyword will result in an error or misinterpretation.\n",
      "  warnings.warn(\n"
     ]
    },
    {
     "data": {
      "text/plain": [
       "Text(0, 0.5, 'Count')"
      ]
     },
     "execution_count": 32,
     "metadata": {},
     "output_type": "execute_result"
    },
    {
     "data": {
      "image/png": "[encoded data removed]",
      "text/plain": [
       "<Figure size 720x360 with 1 Axes>"
      ]
     },
     "metadata": {
      "needs_background": "light"
     },
     "output_type": "display_data"
    }
   ],
   "source": [
    "status_label = data.STATUS.value_counts()\n",
    "plt.figure(figsize=(10,5))\n",
    "sns.barplot(status_label.index,status_label);\n",
    "plt.xlabel(\"STATUS\",fontsize=20);\n",
    "plt.ylabel('Count',fontsize=20)"
   ]
  },
  {
   "cell_type": "markdown",
   "id": "dff55952",
   "metadata": {},
   "source": [
    "Above barplot states that the data are Imbalanced"
   ]
  },
  {
   "cell_type": "markdown",
   "id": "e195cfd4",
   "metadata": {},
   "source": [
    "To make the classes balanced"
   ]
  },
  {
   "cell_type": "code",
   "execution_count": 33,
   "id": "37150c2a",
   "metadata": {},
   "outputs": [],
   "source": [
    "from sklearn.utils import resample\n",
    "#seperate the target classes\n",
    "df1=data[data.STATUS=='ACTIVE']\n",
    "df2=data[data.STATUS=='TERMINATED']\n",
    "\n",
    "#Upsample the minority class\n",
    "df2_upsampled=resample(df2,replace = True,n_samples=48168,random_state=10)\n"
   ]
  },
  {
   "cell_type": "markdown",
   "id": "4a06fd57",
   "metadata": {},
   "source": [
    "combining majority class with upsample minority class"
   ]
  },
  {
   "cell_type": "code",
   "execution_count": 34,
   "id": "8832a633",
   "metadata": {},
   "outputs": [],
   "source": [
    "df_upsample=pd.concat([df1,df2_upsampled])"
   ]
  },
  {
   "cell_type": "code",
   "execution_count": 35,
   "id": "2f6f6376",
   "metadata": {},
   "outputs": [
    {
     "data": {
      "text/plain": [
       "ACTIVE        48168\n",
       "TERMINATED    48168\n",
       "Name: STATUS, dtype: int64"
      ]
     },
     "execution_count": 35,
     "metadata": {},
     "output_type": "execute_result"
    }
   ],
   "source": [
    "df_upsample.STATUS.value_counts()"
   ]
  },
  {
   "cell_type": "code",
   "execution_count": 36,
   "id": "4ff009e3",
   "metadata": {},
   "outputs": [
    {
     "data": {
      "text/html": [
       "<div>\n",
       "<style scoped>\n",
       "    .dataframe tbody tr th:only-of-type {\n",
       "        vertical-align: middle;\n",
       "    }\n",
       "\n",
       "    .dataframe tbody tr th {\n",
       "        vertical-align: top;\n",
       "    }\n",
       "\n",
       "    .dataframe thead th {\n",
       "        text-align: right;\n",
       "    }\n",
       "</style>\n",
       "<table border=\"1\" class=\"dataframe\">\n",
       "  <thead>\n",
       "    <tr style=\"text-align: right;\">\n",
       "      <th></th>\n",
       "      <th>orighiredate_key</th>\n",
       "      <th>terminationdate_key</th>\n",
       "      <th>age</th>\n",
       "      <th>length_of_service</th>\n",
       "      <th>city_name</th>\n",
       "      <th>department_name</th>\n",
       "      <th>job_title</th>\n",
       "      <th>store_name</th>\n",
       "      <th>gender_short</th>\n",
       "      <th>termreason_desc</th>\n",
       "      <th>termtype_desc</th>\n",
       "      <th>STATUS_YEAR</th>\n",
       "      <th>STATUS</th>\n",
       "      <th>BUSINESS_UNIT</th>\n",
       "    </tr>\n",
       "  </thead>\n",
       "  <tbody>\n",
       "    <tr>\n",
       "      <th>0</th>\n",
       "      <td>8/28/1989</td>\n",
       "      <td>1/1/1900</td>\n",
       "      <td>52</td>\n",
       "      <td>17</td>\n",
       "      <td>mega</td>\n",
       "      <td>Executive</td>\n",
       "      <td>board</td>\n",
       "      <td>35</td>\n",
       "      <td>M</td>\n",
       "      <td>Not Applicable</td>\n",
       "      <td>Not Applicable</td>\n",
       "      <td>2006</td>\n",
       "      <td>ACTIVE</td>\n",
       "      <td>HEADOFFICE</td>\n",
       "    </tr>\n",
       "    <tr>\n",
       "      <th>1</th>\n",
       "      <td>8/28/1989</td>\n",
       "      <td>1/1/1900</td>\n",
       "      <td>53</td>\n",
       "      <td>18</td>\n",
       "      <td>mega</td>\n",
       "      <td>Executive</td>\n",
       "      <td>board</td>\n",
       "      <td>35</td>\n",
       "      <td>M</td>\n",
       "      <td>Not Applicable</td>\n",
       "      <td>Not Applicable</td>\n",
       "      <td>2007</td>\n",
       "      <td>ACTIVE</td>\n",
       "      <td>HEADOFFICE</td>\n",
       "    </tr>\n",
       "    <tr>\n",
       "      <th>2</th>\n",
       "      <td>8/28/1989</td>\n",
       "      <td>1/1/1900</td>\n",
       "      <td>54</td>\n",
       "      <td>19</td>\n",
       "      <td>mega</td>\n",
       "      <td>Executive</td>\n",
       "      <td>board</td>\n",
       "      <td>35</td>\n",
       "      <td>M</td>\n",
       "      <td>Not Applicable</td>\n",
       "      <td>Not Applicable</td>\n",
       "      <td>2008</td>\n",
       "      <td>ACTIVE</td>\n",
       "      <td>HEADOFFICE</td>\n",
       "    </tr>\n",
       "    <tr>\n",
       "      <th>3</th>\n",
       "      <td>8/28/1989</td>\n",
       "      <td>1/1/1900</td>\n",
       "      <td>55</td>\n",
       "      <td>20</td>\n",
       "      <td>mega</td>\n",
       "      <td>Executive</td>\n",
       "      <td>board</td>\n",
       "      <td>35</td>\n",
       "      <td>M</td>\n",
       "      <td>Not Applicable</td>\n",
       "      <td>Not Applicable</td>\n",
       "      <td>2009</td>\n",
       "      <td>ACTIVE</td>\n",
       "      <td>HEADOFFICE</td>\n",
       "    </tr>\n",
       "    <tr>\n",
       "      <th>4</th>\n",
       "      <td>8/28/1989</td>\n",
       "      <td>1/1/1900</td>\n",
       "      <td>56</td>\n",
       "      <td>21</td>\n",
       "      <td>mega</td>\n",
       "      <td>Executive</td>\n",
       "      <td>board</td>\n",
       "      <td>35</td>\n",
       "      <td>M</td>\n",
       "      <td>Not Applicable</td>\n",
       "      <td>Not Applicable</td>\n",
       "      <td>2010</td>\n",
       "      <td>ACTIVE</td>\n",
       "      <td>HEADOFFICE</td>\n",
       "    </tr>\n",
       "    <tr>\n",
       "      <th>...</th>\n",
       "      <td>...</td>\n",
       "      <td>...</td>\n",
       "      <td>...</td>\n",
       "      <td>...</td>\n",
       "      <td>...</td>\n",
       "      <td>...</td>\n",
       "      <td>...</td>\n",
       "      <td>...</td>\n",
       "      <td>...</td>\n",
       "      <td>...</td>\n",
       "      <td>...</td>\n",
       "      <td>...</td>\n",
       "      <td>...</td>\n",
       "      <td>...</td>\n",
       "    </tr>\n",
       "    <tr>\n",
       "      <th>48989</th>\n",
       "      <td>1/2/1999</td>\n",
       "      <td>6/27/2007</td>\n",
       "      <td>60</td>\n",
       "      <td>8</td>\n",
       "      <td>mega</td>\n",
       "      <td>Produce</td>\n",
       "      <td>employee</td>\n",
       "      <td>5</td>\n",
       "      <td>M</td>\n",
       "      <td>Retirement</td>\n",
       "      <td>Voluntary</td>\n",
       "      <td>2007</td>\n",
       "      <td>TERMINATED</td>\n",
       "      <td>STORES</td>\n",
       "    </tr>\n",
       "    <tr>\n",
       "      <th>48982</th>\n",
       "      <td>12/17/1998</td>\n",
       "      <td>6/11/2012</td>\n",
       "      <td>65</td>\n",
       "      <td>13</td>\n",
       "      <td>mega</td>\n",
       "      <td>Produce</td>\n",
       "      <td>employee</td>\n",
       "      <td>37</td>\n",
       "      <td>F</td>\n",
       "      <td>Retirement</td>\n",
       "      <td>Voluntary</td>\n",
       "      <td>2012</td>\n",
       "      <td>TERMINATED</td>\n",
       "      <td>STORES</td>\n",
       "    </tr>\n",
       "    <tr>\n",
       "      <th>48747</th>\n",
       "      <td>8/17/1996</td>\n",
       "      <td>2/10/2010</td>\n",
       "      <td>65</td>\n",
       "      <td>13</td>\n",
       "      <td>mega</td>\n",
       "      <td>Meats</td>\n",
       "      <td>employee</td>\n",
       "      <td>35</td>\n",
       "      <td>F</td>\n",
       "      <td>Retirement</td>\n",
       "      <td>Voluntary</td>\n",
       "      <td>2010</td>\n",
       "      <td>TERMINATED</td>\n",
       "      <td>STORES</td>\n",
       "    </tr>\n",
       "    <tr>\n",
       "      <th>49437</th>\n",
       "      <td>12/25/2008</td>\n",
       "      <td>6/7/2011</td>\n",
       "      <td>25</td>\n",
       "      <td>2</td>\n",
       "      <td>rural</td>\n",
       "      <td>Dairy</td>\n",
       "      <td>employee</td>\n",
       "      <td>19</td>\n",
       "      <td>F</td>\n",
       "      <td>Resignaton</td>\n",
       "      <td>Voluntary</td>\n",
       "      <td>2011</td>\n",
       "      <td>TERMINATED</td>\n",
       "      <td>STORES</td>\n",
       "    </tr>\n",
       "    <tr>\n",
       "      <th>49222</th>\n",
       "      <td>2/12/2002</td>\n",
       "      <td>12/30/2015</td>\n",
       "      <td>43</td>\n",
       "      <td>13</td>\n",
       "      <td>rural</td>\n",
       "      <td>Dairy</td>\n",
       "      <td>employee</td>\n",
       "      <td>23</td>\n",
       "      <td>M</td>\n",
       "      <td>Layoff</td>\n",
       "      <td>Involuntary</td>\n",
       "      <td>2015</td>\n",
       "      <td>TERMINATED</td>\n",
       "      <td>STORES</td>\n",
       "    </tr>\n",
       "  </tbody>\n",
       "</table>\n",
       "<p>96336 rows × 14 columns</p>\n",
       "</div>"
      ],
      "text/plain": [
       "      orighiredate_key terminationdate_key  age  length_of_service city_name  \\\n",
       "0            8/28/1989            1/1/1900   52                 17      mega   \n",
       "1            8/28/1989            1/1/1900   53                 18      mega   \n",
       "2            8/28/1989            1/1/1900   54                 19      mega   \n",
       "3            8/28/1989            1/1/1900   55                 20      mega   \n",
       "4            8/28/1989            1/1/1900   56                 21      mega   \n",
       "...                ...                 ...  ...                ...       ...   \n",
       "48989         1/2/1999           6/27/2007   60                  8      mega   \n",
       "48982       12/17/1998           6/11/2012   65                 13      mega   \n",
       "48747        8/17/1996           2/10/2010   65                 13      mega   \n",
       "49437       12/25/2008            6/7/2011   25                  2     rural   \n",
       "49222        2/12/2002          12/30/2015   43                 13     rural   \n",
       "\n",
       "      department_name job_title  store_name gender_short termreason_desc  \\\n",
       "0           Executive     board          35            M  Not Applicable   \n",
       "1           Executive     board          35            M  Not Applicable   \n",
       "2           Executive     board          35            M  Not Applicable   \n",
       "3           Executive     board          35            M  Not Applicable   \n",
       "4           Executive     board          35            M  Not Applicable   \n",
       "...               ...       ...         ...          ...             ...   \n",
       "48989         Produce  employee           5            M      Retirement   \n",
       "48982         Produce  employee          37            F      Retirement   \n",
       "48747           Meats  employee          35            F      Retirement   \n",
       "49437           Dairy  employee          19            F      Resignaton   \n",
       "49222           Dairy  employee          23            M          Layoff   \n",
       "\n",
       "        termtype_desc  STATUS_YEAR      STATUS BUSINESS_UNIT  \n",
       "0      Not Applicable         2006      ACTIVE    HEADOFFICE  \n",
       "1      Not Applicable         2007      ACTIVE    HEADOFFICE  \n",
       "2      Not Applicable         2008      ACTIVE    HEADOFFICE  \n",
       "3      Not Applicable         2009      ACTIVE    HEADOFFICE  \n",
       "4      Not Applicable         2010      ACTIVE    HEADOFFICE  \n",
       "...               ...          ...         ...           ...  \n",
       "48989       Voluntary         2007  TERMINATED        STORES  \n",
       "48982       Voluntary         2012  TERMINATED        STORES  \n",
       "48747       Voluntary         2010  TERMINATED        STORES  \n",
       "49437       Voluntary         2011  TERMINATED        STORES  \n",
       "49222     Involuntary         2015  TERMINATED        STORES  \n",
       "\n",
       "[96336 rows x 14 columns]"
      ]
     },
     "execution_count": 36,
     "metadata": {},
     "output_type": "execute_result"
    }
   ],
   "source": [
    "df_upsample"
   ]
  },
  {
   "cell_type": "markdown",
   "id": "f199ccf7",
   "metadata": {},
   "source": [
    "After upsample"
   ]
  },
  {
   "cell_type": "code",
   "execution_count": 37,
   "id": "2965bf01",
   "metadata": {},
   "outputs": [
    {
     "name": "stderr",
     "output_type": "stream",
     "text": [
      "C:\\Users\\Admin\\anaconda3\\lib\\site-packages\\seaborn\\_decorators.py:36: FutureWarning: Pass the following variables as keyword args: x, y. From version 0.12, the only valid positional argument will be `data`, and passing other arguments without an explicit keyword will result in an error or misinterpretation.\n",
      "  warnings.warn(\n"
     ]
    },
    {
     "data": {
      "text/plain": [
       "Text(0, 0.5, 'Count')"
      ]
     },
     "execution_count": 37,
     "metadata": {},
     "output_type": "execute_result"
    },
    {
     "data": {
      "image/png": "[encoded data removed]",
      "text/plain": [
       "<Figure size 720x360 with 1 Axes>"
      ]
     },
     "metadata": {
      "needs_background": "light"
     },
     "output_type": "display_data"
    }
   ],
   "source": [
    "status_label=df_upsample.STATUS.value_counts()\n",
    "plt.figure(figsize=(10,5))\n",
    "sns.barplot(status_label.index,status_label);\n",
    "plt.xlabel('STATUS',fontsize=15);\n",
    "plt.ylabel('Count',fontsize=15)"
   ]
  },
  {
   "cell_type": "markdown",
   "id": "d7a761dc",
   "metadata": {},
   "source": [
    "Classes are balanced"
   ]
  },
  {
   "cell_type": "markdown",
   "id": "051c8034",
   "metadata": {},
   "source": [
    "Distribution of Status based on City Name"
   ]
  },
  {
   "cell_type": "code",
   "execution_count": 38,
   "id": "d318bf12",
   "metadata": {
    "scrolled": false
   },
   "outputs": [
    {
     "data": {
      "text/plain": [
       "<AxesSubplot:xlabel='city_name', ylabel='count'>"
      ]
     },
     "execution_count": 38,
     "metadata": {},
     "output_type": "execute_result"
    },
    {
     "data": {
      "image/png": "[encoded data removed]",
      "text/plain": [
       "<Figure size 720x360 with 1 Axes>"
      ]
     },
     "metadata": {
      "needs_background": "light"
     },
     "output_type": "display_data"
    }
   ],
   "source": [
    "plt.figure(figsize=(10,5))\n",
    "sns.countplot(x='city_name',hue=\"STATUS\",data=df_upsample)"
   ]
  },
  {
   "cell_type": "markdown",
   "id": "4a55dc8c",
   "metadata": {},
   "source": [
    "-> Maximum number of employees are from the mega city in which the ratio of active to terminated status of the employee is higher (active > terminated)\n",
    "\n",
    "-> Number of employees from the town are less compared to mega city but mugh higher compared to rural area and the ratio of active to terminated status of the employee is almost the same (active ~ terminated)\n",
    "\n",
    "-> The least number of employees are from rural areas and the ratio of active to terminated status of the employee is lower (active < terminated)"
   ]
  },
  {
   "cell_type": "markdown",
   "id": "2deadb50",
   "metadata": {},
   "source": [
    "Distribution of Status based on Business Unit"
   ]
  },
  {
   "cell_type": "code",
   "execution_count": 39,
   "id": "c726ee5b",
   "metadata": {},
   "outputs": [
    {
     "data": {
      "text/plain": [
       "<AxesSubplot:xlabel='BUSINESS_UNIT', ylabel='count'>"
      ]
     },
     "execution_count": 39,
     "metadata": {},
     "output_type": "execute_result"
    },
    {
     "data": {
      "image/png": "[encoded data removed]",
      "text/plain": [
       "<Figure size 720x360 with 1 Axes>"
      ]
     },
     "metadata": {
      "needs_background": "light"
     },
     "output_type": "display_data"
    }
   ],
   "source": [
    "plt.figure(figsize=(10, 5))\n",
    "sns.countplot(x=\"BUSINESS_UNIT\", hue=\"STATUS\", data=df_upsample)"
   ]
  },
  {
   "cell_type": "markdown",
   "id": "be0172c4",
   "metadata": {},
   "source": [
    "-> More number of employees are from the stores and not from the head-office.\n"
   ]
  },
  {
   "cell_type": "markdown",
   "id": "69ea5521",
   "metadata": {},
   "source": [
    "-> Cases of termination are higher in the head-office whereas cases of termination is lower in the stores."
   ]
  },
  {
   "cell_type": "markdown",
   "id": "572467da",
   "metadata": {},
   "source": [
    "Distribution of Status based on Job Title"
   ]
  },
  {
   "cell_type": "code",
   "execution_count": 40,
   "id": "f6108b55",
   "metadata": {
    "scrolled": true
   },
   "outputs": [
    {
     "data": {
      "text/plain": [
       "<AxesSubplot:xlabel='job_title', ylabel='count'>"
      ]
     },
     "execution_count": 40,
     "metadata": {},
     "output_type": "execute_result"
    },
    {
     "data": {
      "image/png": "[encoded data removed]",
      "text/plain": [
       "<Figure size 720x360 with 1 Axes>"
      ]
     },
     "metadata": {
      "needs_background": "light"
     },
     "output_type": "display_data"
    }
   ],
   "source": [
    "plt.figure(figsize=(10,5))\n",
    "sns.countplot(x=\"job_title\",hue=\"STATUS\",data=df_upsample)"
   ]
  },
  {
   "cell_type": "markdown",
   "id": "5dcb8dc2",
   "metadata": {},
   "source": [
    "-> Maximum number of \"Employees\" are the ones with the employee job title and the number of ones with active status is more than the number of ones with terminated status."
   ]
  },
  {
   "cell_type": "markdown",
   "id": "d3ff58a2",
   "metadata": {},
   "source": [
    "Distribution of Status Year with respect to Status"
   ]
  },
  {
   "cell_type": "code",
   "execution_count": 41,
   "id": "e4d15906",
   "metadata": {},
   "outputs": [
    {
     "data": {
      "image/png": "[encoded data removed]",
      "text/plain": [
       "<Figure size 720x360 with 1 Axes>"
      ]
     },
     "metadata": {
      "needs_background": "light"
     },
     "output_type": "display_data"
    }
   ],
   "source": [
    "plt.figure(figsize=(10,5))\n",
    "plt.hist(\"STATUS_YEAR\",data=df_upsample[df_upsample[\"STATUS\"]==\"ACTIVE\"],alpha=0.5,label=\"ACTIVE\")\n",
    "plt.hist(\"STATUS_YEAR\", data = df_upsample[df_upsample[\"STATUS\"] == \"TERMINATED\"], alpha = 0.5, label = \"TERMINATED\")\n",
    "plt.title(\"Distribution of Status Year with respect to Status\")\n",
    "plt.xlabel(\"Status Year\")\n",
    "plt.legend(title = \"STATUS\")\n",
    "plt.show()"
   ]
  },
  {
   "cell_type": "markdown",
   "id": "fb71cc82",
   "metadata": {},
   "source": [
    "Distribution of Length of Service with respect to Status"
   ]
  },
  {
   "cell_type": "code",
   "execution_count": 42,
   "id": "6704d597",
   "metadata": {},
   "outputs": [
    {
     "data": {
      "image/png": "[encoded data removed]",
      "text/plain": [
       "<Figure size 720x360 with 1 Axes>"
      ]
     },
     "metadata": {
      "needs_background": "light"
     },
     "output_type": "display_data"
    }
   ],
   "source": [
    "plt.figure(figsize=(10,5))\n",
    "plt.hist(\"length_of_service\",data=df_upsample[df_upsample[\"STATUS\"]==\"ACTIVE\"],alpha=0.5,label=\"ACTIVE\")\n",
    "plt.hist(\"length_of_service\",data=df_upsample[df_upsample[\"STATUS\"]==\"TERMINATED\"],alpha=0.5,label=\"ACTIVE\")\n",
    "plt.title(\"Distribution of Length of Service with respect to Status\")\n",
    "plt.xlabel(\"Length of Service\")\n",
    "plt.legend(title = \"STATUS\")\n",
    "plt.show()"
   ]
  },
  {
   "cell_type": "markdown",
   "id": "3404f8e7",
   "metadata": {},
   "source": [
    "Distribution of Age with respect to Status"
   ]
  },
  {
   "cell_type": "code",
   "execution_count": 43,
   "id": "44e682b4",
   "metadata": {},
   "outputs": [
    {
     "data": {
      "image/png": "[encoded data removed]",
      "text/plain": [
       "<Figure size 720x360 with 1 Axes>"
      ]
     },
     "metadata": {
      "needs_background": "light"
     },
     "output_type": "display_data"
    }
   ],
   "source": [
    "plt.figure(figsize=(10,5))\n",
    "plt.hist(\"age\",data=df_upsample[df_upsample[\"STATUS\"]==\"ACTIVE\"],alpha=0.5,label=\"ACTIVE\")\n",
    "plt.hist(\"age\",data=df_upsample[df_upsample[\"STATUS\"]==\"TERMINATED\"],alpha=0.5,label=\"ACTIVE\")\n",
    "plt.title(\"Distribution of age with respect to status\")\n",
    "plt.xlabel(\"age\")\n",
    "plt.legend(title = \"STATUS\")\n",
    "plt.show()"
   ]
  },
  {
   "cell_type": "markdown",
   "id": "257aa531",
   "metadata": {},
   "source": [
    "Distribution plot"
   ]
  },
  {
   "cell_type": "code",
   "execution_count": 44,
   "id": "0fe53e3a",
   "metadata": {
    "scrolled": true
   },
   "outputs": [
    {
     "name": "stderr",
     "output_type": "stream",
     "text": [
      "C:\\Users\\Admin\\anaconda3\\lib\\site-packages\\seaborn\\distributions.py:2619: FutureWarning: `distplot` is a deprecated function and will be removed in a future version. Please adapt your code to use either `displot` (a figure-level function with similar flexibility) or `histplot` (an axes-level function for histograms).\n",
      "  warnings.warn(msg, FutureWarning)\n",
      "C:\\Users\\Admin\\anaconda3\\lib\\site-packages\\seaborn\\distributions.py:2619: FutureWarning: `distplot` is a deprecated function and will be removed in a future version. Please adapt your code to use either `displot` (a figure-level function with similar flexibility) or `histplot` (an axes-level function for histograms).\n",
      "  warnings.warn(msg, FutureWarning)\n",
      "C:\\Users\\Admin\\anaconda3\\lib\\site-packages\\seaborn\\distributions.py:2619: FutureWarning: `distplot` is a deprecated function and will be removed in a future version. Please adapt your code to use either `displot` (a figure-level function with similar flexibility) or `histplot` (an axes-level function for histograms).\n",
      "  warnings.warn(msg, FutureWarning)\n",
      "C:\\Users\\Admin\\anaconda3\\lib\\site-packages\\seaborn\\distributions.py:2619: FutureWarning: `distplot` is a deprecated function and will be removed in a future version. Please adapt your code to use either `displot` (a figure-level function with similar flexibility) or `histplot` (an axes-level function for histograms).\n",
      "  warnings.warn(msg, FutureWarning)\n"
     ]
    },
    {
     "data": {
      "image/png": "[encoded data removed]",
      "text/plain": [
       "<Figure size 720x360 with 1 Axes>"
      ]
     },
     "metadata": {
      "needs_background": "light"
     },
     "output_type": "display_data"
    },
    {
     "data": {
      "image/png": "[encoded data removed]",
      "text/plain": [
       "<Figure size 720x360 with 1 Axes>"
      ]
     },
     "metadata": {
      "needs_background": "light"
     },
     "output_type": "display_data"
    },
    {
     "data": {
      "image/png": "[encoded data removed]",
      "text/plain": [
       "<Figure size 720x360 with 1 Axes>"
      ]
     },
     "metadata": {
      "needs_background": "light"
     },
     "output_type": "display_data"
    },
    {
     "data": {
      "image/png": "[encoded data removed]",
      "text/plain": [
       "<Figure size 720x360 with 1 Axes>"
      ]
     },
     "metadata": {
      "needs_background": "light"
     },
     "output_type": "display_data"
    }
   ],
   "source": [
    "for column in ['store_name',\"STATUS_YEAR\",\"length_of_service\",\"age\"]:\n",
    "    plt.figure(figsize=(10,5))\n",
    "    sns.distplot(df_upsample[column],color=\"k\",label=\"terminated\",kde=True)\n",
    "    plt.title(column,size=14)"
   ]
  },
  {
   "cell_type": "markdown",
   "id": "4b1158b3",
   "metadata": {},
   "source": [
    "# Data Pre-processing"
   ]
  },
  {
   "cell_type": "code",
   "execution_count": 45,
   "id": "25ef6539",
   "metadata": {},
   "outputs": [
    {
     "data": {
      "text/html": [
       "<div>\n",
       "<style scoped>\n",
       "    .dataframe tbody tr th:only-of-type {\n",
       "        vertical-align: middle;\n",
       "    }\n",
       "\n",
       "    .dataframe tbody tr th {\n",
       "        vertical-align: top;\n",
       "    }\n",
       "\n",
       "    .dataframe thead th {\n",
       "        text-align: right;\n",
       "    }\n",
       "</style>\n",
       "<table border=\"1\" class=\"dataframe\">\n",
       "  <thead>\n",
       "    <tr style=\"text-align: right;\">\n",
       "      <th></th>\n",
       "      <th>orighiredate_key</th>\n",
       "      <th>terminationdate_key</th>\n",
       "      <th>age</th>\n",
       "      <th>length_of_service</th>\n",
       "      <th>city_name</th>\n",
       "      <th>department_name</th>\n",
       "      <th>job_title</th>\n",
       "      <th>store_name</th>\n",
       "      <th>gender_short</th>\n",
       "      <th>termreason_desc</th>\n",
       "      <th>termtype_desc</th>\n",
       "      <th>STATUS_YEAR</th>\n",
       "      <th>STATUS</th>\n",
       "      <th>BUSINESS_UNIT</th>\n",
       "    </tr>\n",
       "  </thead>\n",
       "  <tbody>\n",
       "    <tr>\n",
       "      <th>0</th>\n",
       "      <td>8/28/1989</td>\n",
       "      <td>1/1/1900</td>\n",
       "      <td>52</td>\n",
       "      <td>17</td>\n",
       "      <td>mega</td>\n",
       "      <td>Executive</td>\n",
       "      <td>board</td>\n",
       "      <td>35</td>\n",
       "      <td>M</td>\n",
       "      <td>Not Applicable</td>\n",
       "      <td>Not Applicable</td>\n",
       "      <td>2006</td>\n",
       "      <td>ACTIVE</td>\n",
       "      <td>HEADOFFICE</td>\n",
       "    </tr>\n",
       "    <tr>\n",
       "      <th>1</th>\n",
       "      <td>8/28/1989</td>\n",
       "      <td>1/1/1900</td>\n",
       "      <td>53</td>\n",
       "      <td>18</td>\n",
       "      <td>mega</td>\n",
       "      <td>Executive</td>\n",
       "      <td>board</td>\n",
       "      <td>35</td>\n",
       "      <td>M</td>\n",
       "      <td>Not Applicable</td>\n",
       "      <td>Not Applicable</td>\n",
       "      <td>2007</td>\n",
       "      <td>ACTIVE</td>\n",
       "      <td>HEADOFFICE</td>\n",
       "    </tr>\n",
       "    <tr>\n",
       "      <th>2</th>\n",
       "      <td>8/28/1989</td>\n",
       "      <td>1/1/1900</td>\n",
       "      <td>54</td>\n",
       "      <td>19</td>\n",
       "      <td>mega</td>\n",
       "      <td>Executive</td>\n",
       "      <td>board</td>\n",
       "      <td>35</td>\n",
       "      <td>M</td>\n",
       "      <td>Not Applicable</td>\n",
       "      <td>Not Applicable</td>\n",
       "      <td>2008</td>\n",
       "      <td>ACTIVE</td>\n",
       "      <td>HEADOFFICE</td>\n",
       "    </tr>\n",
       "    <tr>\n",
       "      <th>3</th>\n",
       "      <td>8/28/1989</td>\n",
       "      <td>1/1/1900</td>\n",
       "      <td>55</td>\n",
       "      <td>20</td>\n",
       "      <td>mega</td>\n",
       "      <td>Executive</td>\n",
       "      <td>board</td>\n",
       "      <td>35</td>\n",
       "      <td>M</td>\n",
       "      <td>Not Applicable</td>\n",
       "      <td>Not Applicable</td>\n",
       "      <td>2009</td>\n",
       "      <td>ACTIVE</td>\n",
       "      <td>HEADOFFICE</td>\n",
       "    </tr>\n",
       "    <tr>\n",
       "      <th>4</th>\n",
       "      <td>8/28/1989</td>\n",
       "      <td>1/1/1900</td>\n",
       "      <td>56</td>\n",
       "      <td>21</td>\n",
       "      <td>mega</td>\n",
       "      <td>Executive</td>\n",
       "      <td>board</td>\n",
       "      <td>35</td>\n",
       "      <td>M</td>\n",
       "      <td>Not Applicable</td>\n",
       "      <td>Not Applicable</td>\n",
       "      <td>2010</td>\n",
       "      <td>ACTIVE</td>\n",
       "      <td>HEADOFFICE</td>\n",
       "    </tr>\n",
       "    <tr>\n",
       "      <th>...</th>\n",
       "      <td>...</td>\n",
       "      <td>...</td>\n",
       "      <td>...</td>\n",
       "      <td>...</td>\n",
       "      <td>...</td>\n",
       "      <td>...</td>\n",
       "      <td>...</td>\n",
       "      <td>...</td>\n",
       "      <td>...</td>\n",
       "      <td>...</td>\n",
       "      <td>...</td>\n",
       "      <td>...</td>\n",
       "      <td>...</td>\n",
       "      <td>...</td>\n",
       "    </tr>\n",
       "    <tr>\n",
       "      <th>48989</th>\n",
       "      <td>1/2/1999</td>\n",
       "      <td>6/27/2007</td>\n",
       "      <td>60</td>\n",
       "      <td>8</td>\n",
       "      <td>mega</td>\n",
       "      <td>Produce</td>\n",
       "      <td>employee</td>\n",
       "      <td>5</td>\n",
       "      <td>M</td>\n",
       "      <td>Retirement</td>\n",
       "      <td>Voluntary</td>\n",
       "      <td>2007</td>\n",
       "      <td>TERMINATED</td>\n",
       "      <td>STORES</td>\n",
       "    </tr>\n",
       "    <tr>\n",
       "      <th>48982</th>\n",
       "      <td>12/17/1998</td>\n",
       "      <td>6/11/2012</td>\n",
       "      <td>65</td>\n",
       "      <td>13</td>\n",
       "      <td>mega</td>\n",
       "      <td>Produce</td>\n",
       "      <td>employee</td>\n",
       "      <td>37</td>\n",
       "      <td>F</td>\n",
       "      <td>Retirement</td>\n",
       "      <td>Voluntary</td>\n",
       "      <td>2012</td>\n",
       "      <td>TERMINATED</td>\n",
       "      <td>STORES</td>\n",
       "    </tr>\n",
       "    <tr>\n",
       "      <th>48747</th>\n",
       "      <td>8/17/1996</td>\n",
       "      <td>2/10/2010</td>\n",
       "      <td>65</td>\n",
       "      <td>13</td>\n",
       "      <td>mega</td>\n",
       "      <td>Meats</td>\n",
       "      <td>employee</td>\n",
       "      <td>35</td>\n",
       "      <td>F</td>\n",
       "      <td>Retirement</td>\n",
       "      <td>Voluntary</td>\n",
       "      <td>2010</td>\n",
       "      <td>TERMINATED</td>\n",
       "      <td>STORES</td>\n",
       "    </tr>\n",
       "    <tr>\n",
       "      <th>49437</th>\n",
       "      <td>12/25/2008</td>\n",
       "      <td>6/7/2011</td>\n",
       "      <td>25</td>\n",
       "      <td>2</td>\n",
       "      <td>rural</td>\n",
       "      <td>Dairy</td>\n",
       "      <td>employee</td>\n",
       "      <td>19</td>\n",
       "      <td>F</td>\n",
       "      <td>Resignaton</td>\n",
       "      <td>Voluntary</td>\n",
       "      <td>2011</td>\n",
       "      <td>TERMINATED</td>\n",
       "      <td>STORES</td>\n",
       "    </tr>\n",
       "    <tr>\n",
       "      <th>49222</th>\n",
       "      <td>2/12/2002</td>\n",
       "      <td>12/30/2015</td>\n",
       "      <td>43</td>\n",
       "      <td>13</td>\n",
       "      <td>rural</td>\n",
       "      <td>Dairy</td>\n",
       "      <td>employee</td>\n",
       "      <td>23</td>\n",
       "      <td>M</td>\n",
       "      <td>Layoff</td>\n",
       "      <td>Involuntary</td>\n",
       "      <td>2015</td>\n",
       "      <td>TERMINATED</td>\n",
       "      <td>STORES</td>\n",
       "    </tr>\n",
       "  </tbody>\n",
       "</table>\n",
       "<p>96336 rows × 14 columns</p>\n",
       "</div>"
      ],
      "text/plain": [
       "      orighiredate_key terminationdate_key  age  length_of_service city_name  \\\n",
       "0            8/28/1989            1/1/1900   52                 17      mega   \n",
       "1            8/28/1989            1/1/1900   53                 18      mega   \n",
       "2            8/28/1989            1/1/1900   54                 19      mega   \n",
       "3            8/28/1989            1/1/1900   55                 20      mega   \n",
       "4            8/28/1989            1/1/1900   56                 21      mega   \n",
       "...                ...                 ...  ...                ...       ...   \n",
       "48989         1/2/1999           6/27/2007   60                  8      mega   \n",
       "48982       12/17/1998           6/11/2012   65                 13      mega   \n",
       "48747        8/17/1996           2/10/2010   65                 13      mega   \n",
       "49437       12/25/2008            6/7/2011   25                  2     rural   \n",
       "49222        2/12/2002          12/30/2015   43                 13     rural   \n",
       "\n",
       "      department_name job_title  store_name gender_short termreason_desc  \\\n",
       "0           Executive     board          35            M  Not Applicable   \n",
       "1           Executive     board          35            M  Not Applicable   \n",
       "2           Executive     board          35            M  Not Applicable   \n",
       "3           Executive     board          35            M  Not Applicable   \n",
       "4           Executive     board          35            M  Not Applicable   \n",
       "...               ...       ...         ...          ...             ...   \n",
       "48989         Produce  employee           5            M      Retirement   \n",
       "48982         Produce  employee          37            F      Retirement   \n",
       "48747           Meats  employee          35            F      Retirement   \n",
       "49437           Dairy  employee          19            F      Resignaton   \n",
       "49222           Dairy  employee          23            M          Layoff   \n",
       "\n",
       "        termtype_desc  STATUS_YEAR      STATUS BUSINESS_UNIT  \n",
       "0      Not Applicable         2006      ACTIVE    HEADOFFICE  \n",
       "1      Not Applicable         2007      ACTIVE    HEADOFFICE  \n",
       "2      Not Applicable         2008      ACTIVE    HEADOFFICE  \n",
       "3      Not Applicable         2009      ACTIVE    HEADOFFICE  \n",
       "4      Not Applicable         2010      ACTIVE    HEADOFFICE  \n",
       "...               ...          ...         ...           ...  \n",
       "48989       Voluntary         2007  TERMINATED        STORES  \n",
       "48982       Voluntary         2012  TERMINATED        STORES  \n",
       "48747       Voluntary         2010  TERMINATED        STORES  \n",
       "49437       Voluntary         2011  TERMINATED        STORES  \n",
       "49222     Involuntary         2015  TERMINATED        STORES  \n",
       "\n",
       "[96336 rows x 14 columns]"
      ]
     },
     "execution_count": 45,
     "metadata": {},
     "output_type": "execute_result"
    }
   ],
   "source": [
    "df_upsample"
   ]
  },
  {
   "cell_type": "markdown",
   "id": "948f8e53",
   "metadata": {},
   "source": [
    "Converting all categorical data into numerical data"
   ]
  },
  {
   "cell_type": "code",
   "execution_count": 46,
   "id": "d779bf7c",
   "metadata": {},
   "outputs": [],
   "source": [
    "from sklearn import preprocessing"
   ]
  },
  {
   "cell_type": "code",
   "execution_count": 47,
   "id": "31e3749e",
   "metadata": {},
   "outputs": [],
   "source": [
    "label=df_upsample[[\"city_name\",\"department_name\",\"job_title\",\"gender_short\",\"termreason_desc\",\"termtype_desc\",\"STATUS\",\"BUSINESS_UNIT\"]]\n",
    "for i in label:\n",
    "    le=preprocessing.LabelEncoder()\n",
    "    le.fit(df_upsample[i])\n",
    "    df_upsample[i]=le.transform(df_upsample[i])"
   ]
  },
  {
   "cell_type": "code",
   "execution_count": 48,
   "id": "d26938dc",
   "metadata": {},
   "outputs": [
    {
     "data": {
      "text/html": [
       "<div>\n",
       "<style scoped>\n",
       "    .dataframe tbody tr th:only-of-type {\n",
       "        vertical-align: middle;\n",
       "    }\n",
       "\n",
       "    .dataframe tbody tr th {\n",
       "        vertical-align: top;\n",
       "    }\n",
       "\n",
       "    .dataframe thead th {\n",
       "        text-align: right;\n",
       "    }\n",
       "</style>\n",
       "<table border=\"1\" class=\"dataframe\">\n",
       "  <thead>\n",
       "    <tr style=\"text-align: right;\">\n",
       "      <th></th>\n",
       "      <th>orighiredate_key</th>\n",
       "      <th>terminationdate_key</th>\n",
       "      <th>age</th>\n",
       "      <th>length_of_service</th>\n",
       "      <th>city_name</th>\n",
       "      <th>department_name</th>\n",
       "      <th>job_title</th>\n",
       "      <th>store_name</th>\n",
       "      <th>gender_short</th>\n",
       "      <th>termreason_desc</th>\n",
       "      <th>termtype_desc</th>\n",
       "      <th>STATUS_YEAR</th>\n",
       "      <th>STATUS</th>\n",
       "      <th>BUSINESS_UNIT</th>\n",
       "    </tr>\n",
       "  </thead>\n",
       "  <tbody>\n",
       "    <tr>\n",
       "      <th>0</th>\n",
       "      <td>8/28/1989</td>\n",
       "      <td>1/1/1900</td>\n",
       "      <td>52</td>\n",
       "      <td>17</td>\n",
       "      <td>0</td>\n",
       "      <td>9</td>\n",
       "      <td>0</td>\n",
       "      <td>35</td>\n",
       "      <td>1</td>\n",
       "      <td>1</td>\n",
       "      <td>1</td>\n",
       "      <td>2006</td>\n",
       "      <td>0</td>\n",
       "      <td>0</td>\n",
       "    </tr>\n",
       "    <tr>\n",
       "      <th>1</th>\n",
       "      <td>8/28/1989</td>\n",
       "      <td>1/1/1900</td>\n",
       "      <td>53</td>\n",
       "      <td>18</td>\n",
       "      <td>0</td>\n",
       "      <td>9</td>\n",
       "      <td>0</td>\n",
       "      <td>35</td>\n",
       "      <td>1</td>\n",
       "      <td>1</td>\n",
       "      <td>1</td>\n",
       "      <td>2007</td>\n",
       "      <td>0</td>\n",
       "      <td>0</td>\n",
       "    </tr>\n",
       "    <tr>\n",
       "      <th>2</th>\n",
       "      <td>8/28/1989</td>\n",
       "      <td>1/1/1900</td>\n",
       "      <td>54</td>\n",
       "      <td>19</td>\n",
       "      <td>0</td>\n",
       "      <td>9</td>\n",
       "      <td>0</td>\n",
       "      <td>35</td>\n",
       "      <td>1</td>\n",
       "      <td>1</td>\n",
       "      <td>1</td>\n",
       "      <td>2008</td>\n",
       "      <td>0</td>\n",
       "      <td>0</td>\n",
       "    </tr>\n",
       "    <tr>\n",
       "      <th>3</th>\n",
       "      <td>8/28/1989</td>\n",
       "      <td>1/1/1900</td>\n",
       "      <td>55</td>\n",
       "      <td>20</td>\n",
       "      <td>0</td>\n",
       "      <td>9</td>\n",
       "      <td>0</td>\n",
       "      <td>35</td>\n",
       "      <td>1</td>\n",
       "      <td>1</td>\n",
       "      <td>1</td>\n",
       "      <td>2009</td>\n",
       "      <td>0</td>\n",
       "      <td>0</td>\n",
       "    </tr>\n",
       "    <tr>\n",
       "      <th>4</th>\n",
       "      <td>8/28/1989</td>\n",
       "      <td>1/1/1900</td>\n",
       "      <td>56</td>\n",
       "      <td>21</td>\n",
       "      <td>0</td>\n",
       "      <td>9</td>\n",
       "      <td>0</td>\n",
       "      <td>35</td>\n",
       "      <td>1</td>\n",
       "      <td>1</td>\n",
       "      <td>1</td>\n",
       "      <td>2010</td>\n",
       "      <td>0</td>\n",
       "      <td>0</td>\n",
       "    </tr>\n",
       "    <tr>\n",
       "      <th>...</th>\n",
       "      <td>...</td>\n",
       "      <td>...</td>\n",
       "      <td>...</td>\n",
       "      <td>...</td>\n",
       "      <td>...</td>\n",
       "      <td>...</td>\n",
       "      <td>...</td>\n",
       "      <td>...</td>\n",
       "      <td>...</td>\n",
       "      <td>...</td>\n",
       "      <td>...</td>\n",
       "      <td>...</td>\n",
       "      <td>...</td>\n",
       "      <td>...</td>\n",
       "    </tr>\n",
       "    <tr>\n",
       "      <th>48989</th>\n",
       "      <td>1/2/1999</td>\n",
       "      <td>6/27/2007</td>\n",
       "      <td>60</td>\n",
       "      <td>8</td>\n",
       "      <td>0</td>\n",
       "      <td>17</td>\n",
       "      <td>1</td>\n",
       "      <td>5</td>\n",
       "      <td>1</td>\n",
       "      <td>3</td>\n",
       "      <td>2</td>\n",
       "      <td>2007</td>\n",
       "      <td>1</td>\n",
       "      <td>1</td>\n",
       "    </tr>\n",
       "    <tr>\n",
       "      <th>48982</th>\n",
       "      <td>12/17/1998</td>\n",
       "      <td>6/11/2012</td>\n",
       "      <td>65</td>\n",
       "      <td>13</td>\n",
       "      <td>0</td>\n",
       "      <td>17</td>\n",
       "      <td>1</td>\n",
       "      <td>37</td>\n",
       "      <td>0</td>\n",
       "      <td>3</td>\n",
       "      <td>2</td>\n",
       "      <td>2012</td>\n",
       "      <td>1</td>\n",
       "      <td>1</td>\n",
       "    </tr>\n",
       "    <tr>\n",
       "      <th>48747</th>\n",
       "      <td>8/17/1996</td>\n",
       "      <td>2/10/2010</td>\n",
       "      <td>65</td>\n",
       "      <td>13</td>\n",
       "      <td>0</td>\n",
       "      <td>15</td>\n",
       "      <td>1</td>\n",
       "      <td>35</td>\n",
       "      <td>0</td>\n",
       "      <td>3</td>\n",
       "      <td>2</td>\n",
       "      <td>2010</td>\n",
       "      <td>1</td>\n",
       "      <td>1</td>\n",
       "    </tr>\n",
       "    <tr>\n",
       "      <th>49437</th>\n",
       "      <td>12/25/2008</td>\n",
       "      <td>6/7/2011</td>\n",
       "      <td>25</td>\n",
       "      <td>2</td>\n",
       "      <td>1</td>\n",
       "      <td>7</td>\n",
       "      <td>1</td>\n",
       "      <td>19</td>\n",
       "      <td>0</td>\n",
       "      <td>2</td>\n",
       "      <td>2</td>\n",
       "      <td>2011</td>\n",
       "      <td>1</td>\n",
       "      <td>1</td>\n",
       "    </tr>\n",
       "    <tr>\n",
       "      <th>49222</th>\n",
       "      <td>2/12/2002</td>\n",
       "      <td>12/30/2015</td>\n",
       "      <td>43</td>\n",
       "      <td>13</td>\n",
       "      <td>1</td>\n",
       "      <td>7</td>\n",
       "      <td>1</td>\n",
       "      <td>23</td>\n",
       "      <td>1</td>\n",
       "      <td>0</td>\n",
       "      <td>0</td>\n",
       "      <td>2015</td>\n",
       "      <td>1</td>\n",
       "      <td>1</td>\n",
       "    </tr>\n",
       "  </tbody>\n",
       "</table>\n",
       "<p>96336 rows × 14 columns</p>\n",
       "</div>"
      ],
      "text/plain": [
       "      orighiredate_key terminationdate_key  age  length_of_service  city_name  \\\n",
       "0            8/28/1989            1/1/1900   52                 17          0   \n",
       "1            8/28/1989            1/1/1900   53                 18          0   \n",
       "2            8/28/1989            1/1/1900   54                 19          0   \n",
       "3            8/28/1989            1/1/1900   55                 20          0   \n",
       "4            8/28/1989            1/1/1900   56                 21          0   \n",
       "...                ...                 ...  ...                ...        ...   \n",
       "48989         1/2/1999           6/27/2007   60                  8          0   \n",
       "48982       12/17/1998           6/11/2012   65                 13          0   \n",
       "48747        8/17/1996           2/10/2010   65                 13          0   \n",
       "49437       12/25/2008            6/7/2011   25                  2          1   \n",
       "49222        2/12/2002          12/30/2015   43                 13          1   \n",
       "\n",
       "       department_name  job_title  store_name  gender_short  termreason_desc  \\\n",
       "0                    9          0          35             1                1   \n",
       "1                    9          0          35             1                1   \n",
       "2                    9          0          35             1                1   \n",
       "3                    9          0          35             1                1   \n",
       "4                    9          0          35             1                1   \n",
       "...                ...        ...         ...           ...              ...   \n",
       "48989               17          1           5             1                3   \n",
       "48982               17          1          37             0                3   \n",
       "48747               15          1          35             0                3   \n",
       "49437                7          1          19             0                2   \n",
       "49222                7          1          23             1                0   \n",
       "\n",
       "       termtype_desc  STATUS_YEAR  STATUS  BUSINESS_UNIT  \n",
       "0                  1         2006       0              0  \n",
       "1                  1         2007       0              0  \n",
       "2                  1         2008       0              0  \n",
       "3                  1         2009       0              0  \n",
       "4                  1         2010       0              0  \n",
       "...              ...          ...     ...            ...  \n",
       "48989              2         2007       1              1  \n",
       "48982              2         2012       1              1  \n",
       "48747              2         2010       1              1  \n",
       "49437              2         2011       1              1  \n",
       "49222              0         2015       1              1  \n",
       "\n",
       "[96336 rows x 14 columns]"
      ]
     },
     "execution_count": 48,
     "metadata": {},
     "output_type": "execute_result"
    }
   ],
   "source": [
    "df_upsample"
   ]
  },
  {
   "cell_type": "markdown",
   "id": "446ecd60",
   "metadata": {},
   "source": [
    "Correlation Matrix"
   ]
  },
  {
   "cell_type": "code",
   "execution_count": 49,
   "id": "7f37c276",
   "metadata": {},
   "outputs": [
    {
     "data": {
      "text/plain": [
       "Text(0.5, 1.0, 'Correlation matrix')"
      ]
     },
     "execution_count": 49,
     "metadata": {},
     "output_type": "execute_result"
    },
    {
     "data": {
      "image/png": "[encoded data removed]",
      "text/plain": [
       "<Figure size 1080x720 with 2 Axes>"
      ]
     },
     "metadata": {
      "needs_background": "light"
     },
     "output_type": "display_data"
    }
   ],
   "source": [
    "plt.figure(figsize=(15,10))\n",
    "sns.heatmap(df_upsample.corr(),annot=True)\n",
    "plt.title('Correlation matrix',fontsize=20)"
   ]
  },
  {
   "cell_type": "markdown",
   "id": "7264216b",
   "metadata": {},
   "source": [
    "Checking the Correlation of Status with repect to other features"
   ]
  },
  {
   "cell_type": "code",
   "execution_count": 50,
   "id": "267bc773",
   "metadata": {},
   "outputs": [
    {
     "data": {
      "text/plain": [
       "termreason_desc      0.664829\n",
       "termtype_desc        0.581840\n",
       "age                  0.317897\n",
       "job_title            0.108127\n",
       "department_name      0.103472\n",
       "length_of_service    0.074292\n",
       "city_name            0.028644\n",
       "STATUS_YEAR          0.010011\n",
       "store_name          -0.063204\n",
       "gender_short        -0.098284\n",
       "BUSINESS_UNIT       -0.108561\n",
       "Name: STATUS, dtype: float64"
      ]
     },
     "execution_count": 50,
     "metadata": {},
     "output_type": "execute_result"
    }
   ],
   "source": [
    "df_upsample.corr()['STATUS'].sort_values(ascending=False)[1:]"
   ]
  },
  {
   "cell_type": "markdown",
   "id": "6d7e7ce9",
   "metadata": {},
   "source": [
    "Dropping unimportant column"
   ]
  },
  {
   "cell_type": "code",
   "execution_count": 51,
   "id": "6f800463",
   "metadata": {},
   "outputs": [],
   "source": [
    "df_upsample.drop([\"termreason_desc\",\"termtype_desc\",\"orighiredate_key\",\"terminationdate_key\"],axis=1,inplace=True)"
   ]
  },
  {
   "cell_type": "code",
   "execution_count": 52,
   "id": "a5219161",
   "metadata": {},
   "outputs": [
    {
     "data": {
      "text/html": [
       "<div>\n",
       "<style scoped>\n",
       "    .dataframe tbody tr th:only-of-type {\n",
       "        vertical-align: middle;\n",
       "    }\n",
       "\n",
       "    .dataframe tbody tr th {\n",
       "        vertical-align: top;\n",
       "    }\n",
       "\n",
       "    .dataframe thead th {\n",
       "        text-align: right;\n",
       "    }\n",
       "</style>\n",
       "<table border=\"1\" class=\"dataframe\">\n",
       "  <thead>\n",
       "    <tr style=\"text-align: right;\">\n",
       "      <th></th>\n",
       "      <th>age</th>\n",
       "      <th>length_of_service</th>\n",
       "      <th>city_name</th>\n",
       "      <th>department_name</th>\n",
       "      <th>job_title</th>\n",
       "      <th>store_name</th>\n",
       "      <th>gender_short</th>\n",
       "      <th>STATUS_YEAR</th>\n",
       "      <th>STATUS</th>\n",
       "      <th>BUSINESS_UNIT</th>\n",
       "    </tr>\n",
       "  </thead>\n",
       "  <tbody>\n",
       "    <tr>\n",
       "      <th>0</th>\n",
       "      <td>52</td>\n",
       "      <td>17</td>\n",
       "      <td>0</td>\n",
       "      <td>9</td>\n",
       "      <td>0</td>\n",
       "      <td>35</td>\n",
       "      <td>1</td>\n",
       "      <td>2006</td>\n",
       "      <td>0</td>\n",
       "      <td>0</td>\n",
       "    </tr>\n",
       "    <tr>\n",
       "      <th>1</th>\n",
       "      <td>53</td>\n",
       "      <td>18</td>\n",
       "      <td>0</td>\n",
       "      <td>9</td>\n",
       "      <td>0</td>\n",
       "      <td>35</td>\n",
       "      <td>1</td>\n",
       "      <td>2007</td>\n",
       "      <td>0</td>\n",
       "      <td>0</td>\n",
       "    </tr>\n",
       "    <tr>\n",
       "      <th>2</th>\n",
       "      <td>54</td>\n",
       "      <td>19</td>\n",
       "      <td>0</td>\n",
       "      <td>9</td>\n",
       "      <td>0</td>\n",
       "      <td>35</td>\n",
       "      <td>1</td>\n",
       "      <td>2008</td>\n",
       "      <td>0</td>\n",
       "      <td>0</td>\n",
       "    </tr>\n",
       "    <tr>\n",
       "      <th>3</th>\n",
       "      <td>55</td>\n",
       "      <td>20</td>\n",
       "      <td>0</td>\n",
       "      <td>9</td>\n",
       "      <td>0</td>\n",
       "      <td>35</td>\n",
       "      <td>1</td>\n",
       "      <td>2009</td>\n",
       "      <td>0</td>\n",
       "      <td>0</td>\n",
       "    </tr>\n",
       "    <tr>\n",
       "      <th>4</th>\n",
       "      <td>56</td>\n",
       "      <td>21</td>\n",
       "      <td>0</td>\n",
       "      <td>9</td>\n",
       "      <td>0</td>\n",
       "      <td>35</td>\n",
       "      <td>1</td>\n",
       "      <td>2010</td>\n",
       "      <td>0</td>\n",
       "      <td>0</td>\n",
       "    </tr>\n",
       "    <tr>\n",
       "      <th>...</th>\n",
       "      <td>...</td>\n",
       "      <td>...</td>\n",
       "      <td>...</td>\n",
       "      <td>...</td>\n",
       "      <td>...</td>\n",
       "      <td>...</td>\n",
       "      <td>...</td>\n",
       "      <td>...</td>\n",
       "      <td>...</td>\n",
       "      <td>...</td>\n",
       "    </tr>\n",
       "    <tr>\n",
       "      <th>48989</th>\n",
       "      <td>60</td>\n",
       "      <td>8</td>\n",
       "      <td>0</td>\n",
       "      <td>17</td>\n",
       "      <td>1</td>\n",
       "      <td>5</td>\n",
       "      <td>1</td>\n",
       "      <td>2007</td>\n",
       "      <td>1</td>\n",
       "      <td>1</td>\n",
       "    </tr>\n",
       "    <tr>\n",
       "      <th>48982</th>\n",
       "      <td>65</td>\n",
       "      <td>13</td>\n",
       "      <td>0</td>\n",
       "      <td>17</td>\n",
       "      <td>1</td>\n",
       "      <td>37</td>\n",
       "      <td>0</td>\n",
       "      <td>2012</td>\n",
       "      <td>1</td>\n",
       "      <td>1</td>\n",
       "    </tr>\n",
       "    <tr>\n",
       "      <th>48747</th>\n",
       "      <td>65</td>\n",
       "      <td>13</td>\n",
       "      <td>0</td>\n",
       "      <td>15</td>\n",
       "      <td>1</td>\n",
       "      <td>35</td>\n",
       "      <td>0</td>\n",
       "      <td>2010</td>\n",
       "      <td>1</td>\n",
       "      <td>1</td>\n",
       "    </tr>\n",
       "    <tr>\n",
       "      <th>49437</th>\n",
       "      <td>25</td>\n",
       "      <td>2</td>\n",
       "      <td>1</td>\n",
       "      <td>7</td>\n",
       "      <td>1</td>\n",
       "      <td>19</td>\n",
       "      <td>0</td>\n",
       "      <td>2011</td>\n",
       "      <td>1</td>\n",
       "      <td>1</td>\n",
       "    </tr>\n",
       "    <tr>\n",
       "      <th>49222</th>\n",
       "      <td>43</td>\n",
       "      <td>13</td>\n",
       "      <td>1</td>\n",
       "      <td>7</td>\n",
       "      <td>1</td>\n",
       "      <td>23</td>\n",
       "      <td>1</td>\n",
       "      <td>2015</td>\n",
       "      <td>1</td>\n",
       "      <td>1</td>\n",
       "    </tr>\n",
       "  </tbody>\n",
       "</table>\n",
       "<p>96336 rows × 10 columns</p>\n",
       "</div>"
      ],
      "text/plain": [
       "       age  length_of_service  city_name  department_name  job_title  \\\n",
       "0       52                 17          0                9          0   \n",
       "1       53                 18          0                9          0   \n",
       "2       54                 19          0                9          0   \n",
       "3       55                 20          0                9          0   \n",
       "4       56                 21          0                9          0   \n",
       "...    ...                ...        ...              ...        ...   \n",
       "48989   60                  8          0               17          1   \n",
       "48982   65                 13          0               17          1   \n",
       "48747   65                 13          0               15          1   \n",
       "49437   25                  2          1                7          1   \n",
       "49222   43                 13          1                7          1   \n",
       "\n",
       "       store_name  gender_short  STATUS_YEAR  STATUS  BUSINESS_UNIT  \n",
       "0              35             1         2006       0              0  \n",
       "1              35             1         2007       0              0  \n",
       "2              35             1         2008       0              0  \n",
       "3              35             1         2009       0              0  \n",
       "4              35             1         2010       0              0  \n",
       "...           ...           ...          ...     ...            ...  \n",
       "48989           5             1         2007       1              1  \n",
       "48982          37             0         2012       1              1  \n",
       "48747          35             0         2010       1              1  \n",
       "49437          19             0         2011       1              1  \n",
       "49222          23             1         2015       1              1  \n",
       "\n",
       "[96336 rows x 10 columns]"
      ]
     },
     "execution_count": 52,
     "metadata": {},
     "output_type": "execute_result"
    }
   ],
   "source": [
    "df_upsample"
   ]
  },
  {
   "cell_type": "code",
   "execution_count": 82,
   "id": "3c882cf3",
   "metadata": {},
   "outputs": [],
   "source": [
    "X=df_upsample.drop(\"STATUS\",axis=1)"
   ]
  },
  {
   "cell_type": "code",
   "execution_count": 83,
   "id": "2384a38d",
   "metadata": {
    "scrolled": true
   },
   "outputs": [
    {
     "data": {
      "text/html": [
       "<div>\n",
       "<style scoped>\n",
       "    .dataframe tbody tr th:only-of-type {\n",
       "        vertical-align: middle;\n",
       "    }\n",
       "\n",
       "    .dataframe tbody tr th {\n",
       "        vertical-align: top;\n",
       "    }\n",
       "\n",
       "    .dataframe thead th {\n",
       "        text-align: right;\n",
       "    }\n",
       "</style>\n",
       "<table border=\"1\" class=\"dataframe\">\n",
       "  <thead>\n",
       "    <tr style=\"text-align: right;\">\n",
       "      <th></th>\n",
       "      <th>age</th>\n",
       "      <th>length_of_service</th>\n",
       "      <th>city_name</th>\n",
       "      <th>department_name</th>\n",
       "      <th>job_title</th>\n",
       "      <th>store_name</th>\n",
       "      <th>gender_short</th>\n",
       "      <th>STATUS_YEAR</th>\n",
       "      <th>BUSINESS_UNIT</th>\n",
       "    </tr>\n",
       "  </thead>\n",
       "  <tbody>\n",
       "    <tr>\n",
       "      <th>0</th>\n",
       "      <td>52</td>\n",
       "      <td>17</td>\n",
       "      <td>0</td>\n",
       "      <td>9</td>\n",
       "      <td>0</td>\n",
       "      <td>35</td>\n",
       "      <td>1</td>\n",
       "      <td>2006</td>\n",
       "      <td>0</td>\n",
       "    </tr>\n",
       "    <tr>\n",
       "      <th>1</th>\n",
       "      <td>53</td>\n",
       "      <td>18</td>\n",
       "      <td>0</td>\n",
       "      <td>9</td>\n",
       "      <td>0</td>\n",
       "      <td>35</td>\n",
       "      <td>1</td>\n",
       "      <td>2007</td>\n",
       "      <td>0</td>\n",
       "    </tr>\n",
       "    <tr>\n",
       "      <th>2</th>\n",
       "      <td>54</td>\n",
       "      <td>19</td>\n",
       "      <td>0</td>\n",
       "      <td>9</td>\n",
       "      <td>0</td>\n",
       "      <td>35</td>\n",
       "      <td>1</td>\n",
       "      <td>2008</td>\n",
       "      <td>0</td>\n",
       "    </tr>\n",
       "    <tr>\n",
       "      <th>3</th>\n",
       "      <td>55</td>\n",
       "      <td>20</td>\n",
       "      <td>0</td>\n",
       "      <td>9</td>\n",
       "      <td>0</td>\n",
       "      <td>35</td>\n",
       "      <td>1</td>\n",
       "      <td>2009</td>\n",
       "      <td>0</td>\n",
       "    </tr>\n",
       "    <tr>\n",
       "      <th>4</th>\n",
       "      <td>56</td>\n",
       "      <td>21</td>\n",
       "      <td>0</td>\n",
       "      <td>9</td>\n",
       "      <td>0</td>\n",
       "      <td>35</td>\n",
       "      <td>1</td>\n",
       "      <td>2010</td>\n",
       "      <td>0</td>\n",
       "    </tr>\n",
       "  </tbody>\n",
       "</table>\n",
       "</div>"
      ],
      "text/plain": [
       "   age  length_of_service  city_name  department_name  job_title  store_name  \\\n",
       "0   52                 17          0                9          0          35   \n",
       "1   53                 18          0                9          0          35   \n",
       "2   54                 19          0                9          0          35   \n",
       "3   55                 20          0                9          0          35   \n",
       "4   56                 21          0                9          0          35   \n",
       "\n",
       "   gender_short  STATUS_YEAR  BUSINESS_UNIT  \n",
       "0             1         2006              0  \n",
       "1             1         2007              0  \n",
       "2             1         2008              0  \n",
       "3             1         2009              0  \n",
       "4             1         2010              0  "
      ]
     },
     "execution_count": 83,
     "metadata": {},
     "output_type": "execute_result"
    }
   ],
   "source": [
    "X.head()"
   ]
  },
  {
   "cell_type": "code",
   "execution_count": 55,
   "id": "c424353e",
   "metadata": {},
   "outputs": [],
   "source": [
    "y=df_upsample[\"STATUS\"]"
   ]
  },
  {
   "cell_type": "code",
   "execution_count": 56,
   "id": "7095eb6a",
   "metadata": {},
   "outputs": [
    {
     "data": {
      "text/plain": [
       "0    0\n",
       "1    0\n",
       "2    0\n",
       "3    0\n",
       "4    0\n",
       "Name: STATUS, dtype: int32"
      ]
     },
     "execution_count": 56,
     "metadata": {},
     "output_type": "execute_result"
    }
   ],
   "source": [
    "y.head()"
   ]
  },
  {
   "cell_type": "markdown",
   "id": "cc7219ed",
   "metadata": {},
   "source": [
    "# model building"
   ]
  },
  {
   "cell_type": "code",
   "execution_count": 81,
   "id": "f00b0ad0",
   "metadata": {},
   "outputs": [],
   "source": [
    "from sklearn.model_selection import train_test_split\n",
    "from sklearn.linear_model import LogisticRegression\n",
    "from sklearn.neighbors import KNeighborsClassifier\n",
    "from sklearn.ensemble import RandomForestClassifier\n",
    "from sklearn.ensemble import GradientBoostingClassifier\n",
    "from sklearn.naive_bayes import GaussianNB\n",
    "from sklearn.tree import DecisionTreeClassifier\n",
    "from sklearn.preprocessing import StandardScaler\n",
    "from sklearn.metrics import accuracy_score, f1_score, confusion_matrix, classification_report, roc_auc_score,roc_curve,auc"
   ]
  },
  {
   "cell_type": "code",
   "execution_count": 58,
   "id": "1943869d",
   "metadata": {},
   "outputs": [],
   "source": [
    "accuracy_list = []\n",
    "f1_list = []\n",
    "roc_auc_list = []"
   ]
  },
  {
   "cell_type": "markdown",
   "id": "96a5d091",
   "metadata": {},
   "source": [
    "# Models"
   ]
  },
  {
   "cell_type": "code",
   "execution_count": 62,
   "id": "55b25c47",
   "metadata": {},
   "outputs": [],
   "source": [
    "def result(X, y, ts, rs, model):\n",
    "    \n",
    "    #train test split\n",
    "    X_train, X_test, y_train, y_test = train_test_split(X, y, test_size=ts, random_state=rs)\n",
    "    \n",
    "    #scaling\n",
    "    sc = StandardScaler()\n",
    "    X_train = sc.fit_transform(X_train)\n",
    "    X_test = sc.transform(X_test)\n",
    "    \n",
    "    #fit on data\n",
    "    model.fit(X_train, y_train)\n",
    "    \n",
    "    #prediction\n",
    "    pred = model.predict(X_test)\n",
    "    \n",
    "    #performance of model\n",
    "    print(\"Classification Report: \\n\", classification_report(y_test, pred))\n",
    "    print(\"-\" * 100)\n",
    "    print()\n",
    "    \n",
    "    #accuracy of model\n",
    "    acc = accuracy_score(y_test, pred)\n",
    "    accuracy_list.append(acc)\n",
    "    print(\"Accuracy Score: \", acc)\n",
    "    print(\"-\" * 100)\n",
    "    print()\n",
    "\n",
    "    #f1-score of model\n",
    "    f1 = f1_score(y_test, pred)\n",
    "    f1_list.append(f1)\n",
    "    print(\"F1 Score: \", f1)\n",
    "    print(\"-\" * 100)\n",
    "    print()\n",
    "\n",
    "    #roc-auc curve of model\n",
    "    fpr,tpr,threshold = roc_curve(y_test,pred)\n",
    "    auc_value = auc(fpr,tpr)\n",
    "    rocauc_score = roc_auc_score(y_test, pred)\n",
    "    roc_auc_list.append(rocauc_score)\n",
    "    plt.figure(figsize=(5,5),dpi=100)\n",
    "    print(\"ROC-AUC Score: \", f1)\n",
    "    print(\"-\" * 100)\n",
    "    print()\n",
    "    plt.plot(fpr,tpr,linestyle='-',label = \"(auc_value = %0.3f)\" % auc_value)\n",
    "    plt.xlabel('False Positive Rate')\n",
    "    plt.ylabel('True Positive Rate')\n",
    "    plt.legend()\n",
    "    plt.show()\n",
    "    print()\n",
    "    \n",
    "    #confusion matrix for model\n",
    "    print(\"Confusion Matrix: \")\n",
    "    plt.figure(figsize=(10, 5))\n",
    "    sns.heatmap(confusion_matrix(y_test, pred), annot=True, fmt='g');\n",
    "    plt.title('Confusion Matrix', fontsize=20)"
   ]
  },
  {
   "cell_type": "markdown",
   "id": "5d437961",
   "metadata": {},
   "source": [
    "knn"
   ]
  },
  {
   "cell_type": "code",
   "execution_count": 63,
   "id": "7628a30f",
   "metadata": {},
   "outputs": [
    {
     "name": "stdout",
     "output_type": "stream",
     "text": [
      "Classification Report: \n",
      "               precision    recall  f1-score   support\n",
      "\n",
      "           0       1.00      0.95      0.97     14432\n",
      "           1       0.95      1.00      0.97     14469\n",
      "\n",
      "    accuracy                           0.97     28901\n",
      "   macro avg       0.98      0.97      0.97     28901\n",
      "weighted avg       0.98      0.97      0.97     28901\n",
      "\n",
      "----------------------------------------------------------------------------------------------------\n",
      "\n",
      "Accuracy Score:  0.9742223452475693\n",
      "----------------------------------------------------------------------------------------------------\n",
      "\n",
      "F1 Score:  0.9748489247493333\n",
      "----------------------------------------------------------------------------------------------------\n",
      "\n",
      "ROC-AUC Score:  0.9748489247493333\n",
      "----------------------------------------------------------------------------------------------------\n",
      "\n"
     ]
    },
    {
     "data": {
      "image/png": "[encoded data removed]",
      "text/plain": [
       "<Figure size 500x500 with 1 Axes>"
      ]
     },
     "metadata": {
      "needs_background": "light"
     },
     "output_type": "display_data"
    },
    {
     "name": "stdout",
     "output_type": "stream",
     "text": [
      "\n",
      "Confusion Matrix: \n"
     ]
    },
    {
     "data": {
      "image/png": "[encoded data removed]",
      "text/plain": [
       "<Figure size 720x360 with 2 Axes>"
      ]
     },
     "metadata": {
      "needs_background": "light"
     },
     "output_type": "display_data"
    }
   ],
   "source": [
    "knn=KNeighborsClassifier()\n",
    "result(x,y,0.3,10,knn)"
   ]
  },
  {
   "cell_type": "markdown",
   "id": "3461e8b4",
   "metadata": {},
   "source": [
    "Decision tree"
   ]
  },
  {
   "cell_type": "code",
   "execution_count": 64,
   "id": "36b9c2c8",
   "metadata": {},
   "outputs": [
    {
     "name": "stdout",
     "output_type": "stream",
     "text": [
      "Classification Report: \n",
      "               precision    recall  f1-score   support\n",
      "\n",
      "           0       1.00      0.98      0.99     12052\n",
      "           1       0.98      1.00      0.99     12032\n",
      "\n",
      "    accuracy                           0.99     24084\n",
      "   macro avg       0.99      0.99      0.99     24084\n",
      "weighted avg       0.99      0.99      0.99     24084\n",
      "\n",
      "----------------------------------------------------------------------------------------------------\n",
      "\n",
      "Accuracy Score:  0.9896196645075569\n",
      "----------------------------------------------------------------------------------------------------\n",
      "\n",
      "F1 Score:  0.9897178580241837\n",
      "----------------------------------------------------------------------------------------------------\n",
      "\n",
      "ROC-AUC Score:  0.9897178580241837\n",
      "----------------------------------------------------------------------------------------------------\n",
      "\n"
     ]
    },
    {
     "data": {
      "image/png": "[encoded data removed]",
      "text/plain": [
       "<Figure size 500x500 with 1 Axes>"
      ]
     },
     "metadata": {
      "needs_background": "light"
     },
     "output_type": "display_data"
    },
    {
     "name": "stdout",
     "output_type": "stream",
     "text": [
      "\n",
      "Confusion Matrix: \n"
     ]
    },
    {
     "data": {
      "image/png": "[encoded data removed]",
      "text/plain": [
       "<Figure size 720x360 with 2 Axes>"
      ]
     },
     "metadata": {
      "needs_background": "light"
     },
     "output_type": "display_data"
    }
   ],
   "source": [
    "dt=DecisionTreeClassifier()\n",
    "result(x,y,0.25,10,dt)"
   ]
  },
  {
   "cell_type": "code",
   "execution_count": 65,
   "id": "bf49f048",
   "metadata": {},
   "outputs": [
    {
     "name": "stdout",
     "output_type": "stream",
     "text": [
      "Classification Report: \n",
      "               precision    recall  f1-score   support\n",
      "\n",
      "           0       1.00      0.98      0.99     12052\n",
      "           1       0.98      1.00      0.99     12032\n",
      "\n",
      "    accuracy                           0.99     24084\n",
      "   macro avg       0.99      0.99      0.99     24084\n",
      "weighted avg       0.99      0.99      0.99     24084\n",
      "\n",
      "----------------------------------------------------------------------------------------------------\n",
      "\n",
      "Accuracy Score:  0.9906161767148314\n",
      "----------------------------------------------------------------------------------------------------\n",
      "\n",
      "F1 Score:  0.9906957595718403\n",
      "----------------------------------------------------------------------------------------------------\n",
      "\n",
      "ROC-AUC Score:  0.9906957595718403\n",
      "----------------------------------------------------------------------------------------------------\n",
      "\n"
     ]
    },
    {
     "data": {
      "image/png": "[encoded data removed]",
      "text/plain": [
       "<Figure size 500x500 with 1 Axes>"
      ]
     },
     "metadata": {
      "needs_background": "light"
     },
     "output_type": "display_data"
    },
    {
     "name": "stdout",
     "output_type": "stream",
     "text": [
      "\n",
      "Confusion Matrix: \n"
     ]
    },
    {
     "data": {
      "image/png": "[encoded data removed]",
      "text/plain": [
       "<Figure size 720x360 with 2 Axes>"
      ]
     },
     "metadata": {
      "needs_background": "light"
     },
     "output_type": "display_data"
    }
   ],
   "source": [
    "rfc=RandomForestClassifier()\n",
    "result(x,y,0.25,10,rfc)"
   ]
  },
  {
   "cell_type": "code",
   "execution_count": 66,
   "id": "f5a6cedd",
   "metadata": {},
   "outputs": [
    {
     "name": "stdout",
     "output_type": "stream",
     "text": [
      "Classification Report: \n",
      "               precision    recall  f1-score   support\n",
      "\n",
      "           0       0.61      0.92      0.74     12052\n",
      "           1       0.84      0.42      0.56     12032\n",
      "\n",
      "    accuracy                           0.67     24084\n",
      "   macro avg       0.72      0.67      0.65     24084\n",
      "weighted avg       0.72      0.67      0.65     24084\n",
      "\n",
      "----------------------------------------------------------------------------------------------------\n",
      "\n",
      "Accuracy Score:  0.6705696728118252\n",
      "----------------------------------------------------------------------------------------------------\n",
      "\n",
      "F1 Score:  0.5627686542488702\n",
      "----------------------------------------------------------------------------------------------------\n",
      "\n",
      "ROC-AUC Score:  0.5627686542488702\n",
      "----------------------------------------------------------------------------------------------------\n",
      "\n"
     ]
    },
    {
     "data": {
      "image/png": "[encoded data removed]",
      "text/plain": [
       "<Figure size 500x500 with 1 Axes>"
      ]
     },
     "metadata": {
      "needs_background": "light"
     },
     "output_type": "display_data"
    },
    {
     "name": "stdout",
     "output_type": "stream",
     "text": [
      "\n",
      "Confusion Matrix: \n"
     ]
    },
    {
     "data": {
      "image/png": "[encoded data removed]",
      "text/plain": [
       "<Figure size 720x360 with 2 Axes>"
      ]
     },
     "metadata": {
      "needs_background": "light"
     },
     "output_type": "display_data"
    }
   ],
   "source": [
    "nb=GaussianNB()\n",
    "result(x,y,0.25,10,nb)"
   ]
  },
  {
   "cell_type": "markdown",
   "id": "02e57d96",
   "metadata": {},
   "source": [
    "Logistic Regression"
   ]
  },
  {
   "cell_type": "code",
   "execution_count": 67,
   "id": "f25d8ce0",
   "metadata": {
    "scrolled": false
   },
   "outputs": [
    {
     "name": "stdout",
     "output_type": "stream",
     "text": [
      "Classification Report: \n",
      "               precision    recall  f1-score   support\n",
      "\n",
      "           0       0.76      0.86      0.80     12052\n",
      "           1       0.84      0.72      0.78     12032\n",
      "\n",
      "    accuracy                           0.79     24084\n",
      "   macro avg       0.80      0.79      0.79     24084\n",
      "weighted avg       0.80      0.79      0.79     24084\n",
      "\n",
      "----------------------------------------------------------------------------------------------------\n",
      "\n",
      "Accuracy Score:  0.7908985218402259\n",
      "----------------------------------------------------------------------------------------------------\n",
      "\n",
      "F1 Score:  0.7753189970554119\n",
      "----------------------------------------------------------------------------------------------------\n",
      "\n",
      "ROC-AUC Score:  0.7753189970554119\n",
      "----------------------------------------------------------------------------------------------------\n",
      "\n"
     ]
    },
    {
     "data": {
      "image/png": "[encoded data removed]",
      "text/plain": [
       "<Figure size 500x500 with 1 Axes>"
      ]
     },
     "metadata": {
      "needs_background": "light"
     },
     "output_type": "display_data"
    },
    {
     "name": "stdout",
     "output_type": "stream",
     "text": [
      "\n",
      "Confusion Matrix: \n"
     ]
    },
    {
     "data": {
      "image/png": "[encoded data removed]",
      "text/plain": [
       "<Figure size 720x360 with 2 Axes>"
      ]
     },
     "metadata": {
      "needs_background": "light"
     },
     "output_type": "display_data"
    }
   ],
   "source": [
    "lg=LogisticRegression()\n",
    "result(x,y,0.25,10,lg)"
   ]
  },
  {
   "cell_type": "markdown",
   "id": "43f15048",
   "metadata": {},
   "source": [
    "Gradient Boosting Classifier"
   ]
  },
  {
   "cell_type": "code",
   "execution_count": 68,
   "id": "53c7eb67",
   "metadata": {},
   "outputs": [
    {
     "name": "stdout",
     "output_type": "stream",
     "text": [
      "Classification Report: \n",
      "               precision    recall  f1-score   support\n",
      "\n",
      "           0       0.87      0.96      0.92     12052\n",
      "           1       0.96      0.86      0.91     12032\n",
      "\n",
      "    accuracy                           0.91     24084\n",
      "   macro avg       0.92      0.91      0.91     24084\n",
      "weighted avg       0.92      0.91      0.91     24084\n",
      "\n",
      "----------------------------------------------------------------------------------------------------\n",
      "\n",
      "Accuracy Score:  0.9118501909981731\n",
      "----------------------------------------------------------------------------------------------------\n",
      "\n",
      "F1 Score:  0.9071912568306011\n",
      "----------------------------------------------------------------------------------------------------\n",
      "\n",
      "ROC-AUC Score:  0.9071912568306011\n",
      "----------------------------------------------------------------------------------------------------\n",
      "\n"
     ]
    },
    {
     "data": {
      "image/png": "[encoded data removed]",
      "text/plain": [
       "<Figure size 500x500 with 1 Axes>"
      ]
     },
     "metadata": {
      "needs_background": "light"
     },
     "output_type": "display_data"
    },
    {
     "name": "stdout",
     "output_type": "stream",
     "text": [
      "\n",
      "Confusion Matrix: \n"
     ]
    },
    {
     "data": {
      "image/png": "[encoded data removed]",
      "text/plain": [
       "<Figure size 720x360 with 2 Axes>"
      ]
     },
     "metadata": {
      "needs_background": "light"
     },
     "output_type": "display_data"
    }
   ],
   "source": [
    "gb=GradientBoostingClassifier()\n",
    "result(x,y,0.25,10,gb)"
   ]
  },
  {
   "cell_type": "markdown",
   "id": "ae98754a",
   "metadata": {},
   "source": [
    "# classifier comparison"
   ]
  },
  {
   "cell_type": "code",
   "execution_count": 75,
   "id": "b3014702",
   "metadata": {},
   "outputs": [
    {
     "data": {
      "text/plain": [
       "[['KNN', 0.9742223452475693, 0.9748489247493333, 0.9741920479811645],\n",
       " ['Decision Tree', 0.9896196645075569, 0.9897178580241837, 0.9896282774643212],\n",
       " ['Random Forest Classifier',\n",
       "  0.9906161767148314,\n",
       "  0.9906957595718403,\n",
       "  0.9906239628277465],\n",
       " ['Naive bayes', 0.6705696728118252, 0.5627686542488702, 0.6703653902680583],\n",
       " ['Logistic Regression',\n",
       "  0.7908985218402259,\n",
       "  0.7753189970554119,\n",
       "  0.7908414848820007],\n",
       " ['Gradient Boosting Classifier',\n",
       "  0.9118501909981731,\n",
       "  0.9071912568306011,\n",
       "  0.91180913294165]]"
      ]
     },
     "execution_count": 75,
     "metadata": {},
     "output_type": "execute_result"
    }
   ],
   "source": [
    "classifier_list =[\"KNN\",\"Decision Tree\",\"Random Forest Classifier\",\"Naive bayes\",\"Logistic Regression\",\"Gradient Boosting Classifier\"]\n",
    "list_class =[]\n",
    "for i in range(0,len(classifier_list)):\n",
    "    listclass = [classifier_list[i],accuracy_list[i],f1_list[i],roc_auc_list[i]]\n",
    "    list_class.append(listclass)\n",
    "    \n",
    "list_class"
   ]
  },
  {
   "cell_type": "code",
   "execution_count": 76,
   "id": "db53d6ff",
   "metadata": {},
   "outputs": [
    {
     "data": {
      "text/html": [
       "<div>\n",
       "<style scoped>\n",
       "    .dataframe tbody tr th:only-of-type {\n",
       "        vertical-align: middle;\n",
       "    }\n",
       "\n",
       "    .dataframe tbody tr th {\n",
       "        vertical-align: top;\n",
       "    }\n",
       "\n",
       "    .dataframe thead th {\n",
       "        text-align: right;\n",
       "    }\n",
       "</style>\n",
       "<table border=\"1\" class=\"dataframe\">\n",
       "  <thead>\n",
       "    <tr style=\"text-align: right;\">\n",
       "      <th></th>\n",
       "      <th>Classifier</th>\n",
       "      <th>Accuracy</th>\n",
       "      <th>F1 Score</th>\n",
       "      <th>ROC-AUC Score</th>\n",
       "    </tr>\n",
       "  </thead>\n",
       "  <tbody>\n",
       "    <tr>\n",
       "      <th>2</th>\n",
       "      <td>Random Forest Classifier</td>\n",
       "      <td>0.990616</td>\n",
       "      <td>0.990696</td>\n",
       "      <td>0.990624</td>\n",
       "    </tr>\n",
       "    <tr>\n",
       "      <th>1</th>\n",
       "      <td>Decision Tree</td>\n",
       "      <td>0.989620</td>\n",
       "      <td>0.989718</td>\n",
       "      <td>0.989628</td>\n",
       "    </tr>\n",
       "    <tr>\n",
       "      <th>0</th>\n",
       "      <td>KNN</td>\n",
       "      <td>0.974222</td>\n",
       "      <td>0.974849</td>\n",
       "      <td>0.974192</td>\n",
       "    </tr>\n",
       "    <tr>\n",
       "      <th>5</th>\n",
       "      <td>Gradient Boosting Classifier</td>\n",
       "      <td>0.911850</td>\n",
       "      <td>0.907191</td>\n",
       "      <td>0.911809</td>\n",
       "    </tr>\n",
       "    <tr>\n",
       "      <th>4</th>\n",
       "      <td>Logistic Regression</td>\n",
       "      <td>0.790899</td>\n",
       "      <td>0.775319</td>\n",
       "      <td>0.790841</td>\n",
       "    </tr>\n",
       "    <tr>\n",
       "      <th>3</th>\n",
       "      <td>Naive bayes</td>\n",
       "      <td>0.670570</td>\n",
       "      <td>0.562769</td>\n",
       "      <td>0.670365</td>\n",
       "    </tr>\n",
       "  </tbody>\n",
       "</table>\n",
       "</div>"
      ],
      "text/plain": [
       "                     Classifier  Accuracy  F1 Score  ROC-AUC Score\n",
       "2      Random Forest Classifier  0.990616  0.990696       0.990624\n",
       "1                 Decision Tree  0.989620  0.989718       0.989628\n",
       "0                           KNN  0.974222  0.974849       0.974192\n",
       "5  Gradient Boosting Classifier  0.911850  0.907191       0.911809\n",
       "4           Logistic Regression  0.790899  0.775319       0.790841\n",
       "3                   Naive bayes  0.670570  0.562769       0.670365"
      ]
     },
     "execution_count": 76,
     "metadata": {},
     "output_type": "execute_result"
    }
   ],
   "source": [
    "cc_table = pd.DataFrame(list_class, columns = [\"Classifier\", \"Accuracy\", \"F1 Score\", \"ROC-AUC Score\"])\n",
    "cc_table.sort_values(ascending = False, by = \"Accuracy\")"
   ]
  },
  {
   "cell_type": "markdown",
   "id": "b7ac2047",
   "metadata": {},
   "source": [
    "Plotting the Comparison Table as a Bar Plot"
   ]
  },
  {
   "cell_type": "markdown",
   "id": "e82ba9ba",
   "metadata": {},
   "source": [
    "For Accuracy"
   ]
  },
  {
   "cell_type": "code",
   "execution_count": 77,
   "id": "8280b56a",
   "metadata": {},
   "outputs": [
    {
     "data": {
      "text/plain": [
       "<AxesSubplot:xlabel='Accuracy', ylabel='Classifier'>"
      ]
     },
     "execution_count": 77,
     "metadata": {},
     "output_type": "execute_result"
    },
    {
     "data": {
      "image/png": "[encoded data removed]",
      "text/plain": [
       "<Figure size 576x432 with 1 Axes>"
      ]
     },
     "metadata": {
      "needs_background": "light"
     },
     "output_type": "display_data"
    }
   ],
   "source": [
    "plt.figure(figsize = (8,6))\n",
    "sns.barplot(x = cc_table[\"Accuracy\"]*100, \n",
    "            y = cc_table[\"Classifier\"], \n",
    "            data = cc_table, \n",
    "            order = cc_table.sort_values(\"Accuracy\", ascending = False).Classifier)"
   ]
  },
  {
   "cell_type": "markdown",
   "id": "8b648dd3",
   "metadata": {},
   "source": [
    "For F1 Score"
   ]
  },
  {
   "cell_type": "code",
   "execution_count": 78,
   "id": "65ee6199",
   "metadata": {},
   "outputs": [
    {
     "data": {
      "text/plain": [
       "<AxesSubplot:xlabel='F1 Score', ylabel='Classifier'>"
      ]
     },
     "execution_count": 78,
     "metadata": {},
     "output_type": "execute_result"
    },
    {
     "data": {
      "image/png": "[encoded data removed]",
      "text/plain": [
       "<Figure size 576x432 with 1 Axes>"
      ]
     },
     "metadata": {
      "needs_background": "light"
     },
     "output_type": "display_data"
    }
   ],
   "source": [
    "plt.figure(figsize = (8,6))\n",
    "sns.barplot(x = cc_table[\"F1 Score\"]*100, \n",
    "            y = cc_table[\"Classifier\"], \n",
    "            data = cc_table, \n",
    "            order = cc_table.sort_values(\"F1 Score\", ascending = False).Classifier)"
   ]
  },
  {
   "cell_type": "markdown",
   "id": "0c538577",
   "metadata": {},
   "source": [
    "For ROC-AUC Score"
   ]
  },
  {
   "cell_type": "code",
   "execution_count": 79,
   "id": "5b6e72c2",
   "metadata": {},
   "outputs": [
    {
     "data": {
      "text/plain": [
       "<AxesSubplot:xlabel='ROC-AUC Score', ylabel='Classifier'>"
      ]
     },
     "execution_count": 79,
     "metadata": {},
     "output_type": "execute_result"
    },
    {
     "data": {
      "image/png": "[encoded data removed]",
      "text/plain": [
       "<Figure size 576x432 with 1 Axes>"
      ]
     },
     "metadata": {
      "needs_background": "light"
     },
     "output_type": "display_data"
    }
   ],
   "source": [
    "plt.figure(figsize = (8,6))\n",
    "sns.barplot(x = cc_table[\"ROC-AUC Score\"]*100, \n",
    "            y = cc_table[\"Classifier\"], \n",
    "            data = cc_table, \n",
    "            order = cc_table.sort_values(\"ROC-AUC Score\", ascending = False).Classifier)"
   ]
  },
  {
   "cell_type": "markdown",
   "id": "96a1cb06",
   "metadata": {},
   "source": [
    "Conclusion: After comparing the evaluation metrics of each model, we can conclude that Random Forest Classifier seems to be the best classifier that can be used and Decision Tree would be the next best option."
   ]
  }
 ],
 "metadata": {
  "kernelspec": {
   "display_name": "Python 3 (ipykernel)",
   "language": "python",
   "name": "python3"
  },
  "language_info": {
   "codemirror_mode": {
    "name": "ipython",
    "version": 3
   },
   "file_extension": ".py",
   "mimetype": "text/x-python",
   "name": "python",
   "nbconvert_exporter": "python",
   "pygments_lexer": "ipython3",
   "version": "3.9.12"
  }
 },
 "nbformat": 4,
 "nbformat_minor": 5
}
